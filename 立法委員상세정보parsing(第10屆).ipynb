{
  "nbformat": 4,
  "nbformat_minor": 0,
  "metadata": {
    "colab": {
      "provenance": [],
      "mount_file_id": "1NfmfqP3mRm43Ud3tvIS2HxylXWWa-ZC5",
      "authorship_tag": "ABX9TyOhhQXAyYqeCEJXZkG12bza",
      "include_colab_link": true
    },
    "kernelspec": {
      "name": "python3",
      "display_name": "Python 3"
    },
    "language_info": {
      "name": "python"
    }
  },
  "cells": [
    {
      "cell_type": "markdown",
      "metadata": {
        "id": "view-in-github",
        "colab_type": "text"
      },
      "source": [
        "<a href=\"https://colab.research.google.com/github/KILjungjoon/Project_Asian_Parliament/blob/main/%E7%AB%8B%E6%B3%95%E5%A7%94%E5%93%A1%EC%83%81%EC%84%B8%EC%A0%95%EB%B3%B4parsing(%E7%AC%AC10%E5%B1%86).ipynb\" target=\"_parent\"><img src=\"https://colab.research.google.com/assets/colab-badge.svg\" alt=\"Open In Colab\"/></a>"
      ]
    },
    {
      "cell_type": "markdown",
      "source": [
        "## 입법원 홈페이지에서 입법의원 정보 추출하기\n",
        "* 중요한 코드 설명</p>\n",
        "```\n",
        "委員會_list = []\n",
        "for li in left_infos[6].find_all('li'):\n",
        "    委員會_list.append(li.text.strip())\n",
        "委員會.append(','.join(委員會_list))\n",
        "到職日期.append(left_infos[-1].text.strip().split('：')[1])\n",
        "```\n",
        "* 委員會는 left_infos[6]이지만 그 안에는 li 요소가 불규칙적으로 있다. 따라서 到職日期는 left_infos[-1]을 지정해줘야 한다.\n",
        "\n",
        "\n",
        "\n"
      ],
      "metadata": {
        "id": "GOYRhMXeXH9_"
      }
    },
    {
      "cell_type": "code",
      "source": [
        "from google.colab import drive\n",
        "drive.mount('/content/drive')"
      ],
      "metadata": {
        "colab": {
          "base_uri": "https://localhost:8080/"
        },
        "id": "h3bEKJYWm3Rs",
        "outputId": "0a764ed9-aadc-4395-b6a5-0c6258d58e73"
      },
      "execution_count": 1,
      "outputs": [
        {
          "output_type": "stream",
          "name": "stdout",
          "text": [
            "Drive already mounted at /content/drive; to attempt to forcibly remount, call drive.mount(\"/content/drive\", force_remount=True).\n"
          ]
        }
      ]
    },
    {
      "cell_type": "code",
      "execution_count": 11,
      "metadata": {
        "colab": {
          "base_uri": "https://localhost:8080/"
        },
        "id": "l19M8qEsMeDX",
        "outputId": "c06db5cb-9430-4e70-91bb-51390760dbb7"
      },
      "outputs": [
        {
          "output_type": "stream",
          "name": "stdout",
          "text": [
            "Collecting selenium\n",
            "  Downloading selenium-4.16.0-py3-none-any.whl (10.0 MB)\n",
            "\u001b[2K     \u001b[90m━━━━━━━━━━━━━━━━━━━━━━━━━━━━━━━━━━━━━━━━\u001b[0m \u001b[32m10.0/10.0 MB\u001b[0m \u001b[31m25.5 MB/s\u001b[0m eta \u001b[36m0:00:00\u001b[0m\n",
            "\u001b[?25hRequirement already satisfied: urllib3[socks]<3,>=1.26 in /usr/local/lib/python3.10/dist-packages (from selenium) (2.0.7)\n",
            "Collecting trio~=0.17 (from selenium)\n",
            "  Downloading trio-0.23.1-py3-none-any.whl (448 kB)\n",
            "\u001b[2K     \u001b[90m━━━━━━━━━━━━━━━━━━━━━━━━━━━━━━━━━━━━━━━━\u001b[0m \u001b[32m448.3/448.3 kB\u001b[0m \u001b[31m48.8 MB/s\u001b[0m eta \u001b[36m0:00:00\u001b[0m\n",
            "\u001b[?25hCollecting trio-websocket~=0.9 (from selenium)\n",
            "  Downloading trio_websocket-0.11.1-py3-none-any.whl (17 kB)\n",
            "Requirement already satisfied: certifi>=2021.10.8 in /usr/local/lib/python3.10/dist-packages (from selenium) (2023.11.17)\n",
            "Requirement already satisfied: attrs>=20.1.0 in /usr/local/lib/python3.10/dist-packages (from trio~=0.17->selenium) (23.1.0)\n",
            "Requirement already satisfied: sortedcontainers in /usr/local/lib/python3.10/dist-packages (from trio~=0.17->selenium) (2.4.0)\n",
            "Requirement already satisfied: idna in /usr/local/lib/python3.10/dist-packages (from trio~=0.17->selenium) (3.6)\n",
            "Collecting outcome (from trio~=0.17->selenium)\n",
            "  Downloading outcome-1.3.0.post0-py2.py3-none-any.whl (10 kB)\n",
            "Requirement already satisfied: sniffio>=1.3.0 in /usr/local/lib/python3.10/dist-packages (from trio~=0.17->selenium) (1.3.0)\n",
            "Requirement already satisfied: exceptiongroup>=1.0.0rc9 in /usr/local/lib/python3.10/dist-packages (from trio~=0.17->selenium) (1.2.0)\n",
            "Collecting wsproto>=0.14 (from trio-websocket~=0.9->selenium)\n",
            "  Downloading wsproto-1.2.0-py3-none-any.whl (24 kB)\n",
            "Requirement already satisfied: pysocks!=1.5.7,<2.0,>=1.5.6 in /usr/local/lib/python3.10/dist-packages (from urllib3[socks]<3,>=1.26->selenium) (1.7.1)\n",
            "Collecting h11<1,>=0.9.0 (from wsproto>=0.14->trio-websocket~=0.9->selenium)\n",
            "  Downloading h11-0.14.0-py3-none-any.whl (58 kB)\n",
            "\u001b[2K     \u001b[90m━━━━━━━━━━━━━━━━━━━━━━━━━━━━━━━━━━━━━━━━\u001b[0m \u001b[32m58.3/58.3 kB\u001b[0m \u001b[31m9.3 MB/s\u001b[0m eta \u001b[36m0:00:00\u001b[0m\n",
            "\u001b[?25hInstalling collected packages: outcome, h11, wsproto, trio, trio-websocket, selenium\n",
            "Successfully installed h11-0.14.0 outcome-1.3.0.post0 selenium-4.16.0 trio-0.23.1 trio-websocket-0.11.1 wsproto-1.2.0\n",
            "Get:1 https://cloud.r-project.org/bin/linux/ubuntu jammy-cran40/ InRelease [3,626 B]\n",
            "Get:2 https://developer.download.nvidia.com/compute/cuda/repos/ubuntu2204/x86_64  InRelease [1,581 B]\n",
            "Hit:3 http://archive.ubuntu.com/ubuntu jammy InRelease\n",
            "Get:4 https://developer.download.nvidia.com/compute/cuda/repos/ubuntu2204/x86_64  Packages [633 kB]\n",
            "Get:5 http://archive.ubuntu.com/ubuntu jammy-updates InRelease [119 kB]\n",
            "Hit:6 https://ppa.launchpadcontent.net/c2d4u.team/c2d4u4.0+/ubuntu jammy InRelease\n",
            "Hit:7 https://ppa.launchpadcontent.net/deadsnakes/ppa/ubuntu jammy InRelease\n",
            "Get:8 http://archive.ubuntu.com/ubuntu jammy-backports InRelease [109 kB]\n",
            "Hit:9 https://ppa.launchpadcontent.net/graphics-drivers/ppa/ubuntu jammy InRelease\n",
            "Hit:10 https://ppa.launchpadcontent.net/ubuntugis/ppa/ubuntu jammy InRelease\n",
            "Get:11 http://archive.ubuntu.com/ubuntu jammy-updates/main amd64 Packages [1,576 kB]\n",
            "Get:12 http://security.ubuntu.com/ubuntu jammy-security InRelease [110 kB]\n",
            "Get:13 http://archive.ubuntu.com/ubuntu jammy-updates/universe amd64 Packages [1,304 kB]\n",
            "Get:14 http://security.ubuntu.com/ubuntu jammy-security/restricted amd64 Packages [1,512 kB]\n",
            "Get:15 http://archive.ubuntu.com/ubuntu jammy-updates/restricted amd64 Packages [1,572 kB]\n",
            "Get:16 http://archive.ubuntu.com/ubuntu jammy-backports/universe amd64 Packages [32.6 kB]\n",
            "Get:17 http://security.ubuntu.com/ubuntu jammy-security/universe amd64 Packages [1,036 kB]\n",
            "Get:18 http://security.ubuntu.com/ubuntu jammy-security/main amd64 Packages [1,282 kB]\n",
            "Fetched 9,291 kB in 3s (3,423 kB/s)\n",
            "Reading package lists... Done\n",
            "Reading package lists... Done\n",
            "Building dependency tree... Done\n",
            "Reading state information... Done\n",
            "The following additional packages will be installed:\n",
            "  apparmor chromium-browser libfuse3-3 liblzo2-2 libudev1 snapd squashfs-tools systemd-hwe-hwdb\n",
            "  udev\n",
            "Suggested packages:\n",
            "  apparmor-profiles-extra apparmor-utils fuse3 zenity | kdialog\n",
            "The following NEW packages will be installed:\n",
            "  apparmor chromium-browser chromium-chromedriver libfuse3-3 liblzo2-2 snapd squashfs-tools\n",
            "  systemd-hwe-hwdb udev\n",
            "The following packages will be upgraded:\n",
            "  libudev1\n",
            "1 upgraded, 9 newly installed, 0 to remove and 28 not upgraded.\n",
            "Need to get 26.4 MB of archives.\n",
            "After this operation, 116 MB of additional disk space will be used.\n",
            "Get:1 http://archive.ubuntu.com/ubuntu jammy-updates/main amd64 apparmor amd64 3.0.4-2ubuntu2.3 [595 kB]\n",
            "Get:2 http://archive.ubuntu.com/ubuntu jammy/main amd64 liblzo2-2 amd64 2.10-2build3 [53.7 kB]\n",
            "Get:3 http://archive.ubuntu.com/ubuntu jammy/main amd64 squashfs-tools amd64 1:4.5-3build1 [159 kB]\n",
            "Get:4 http://archive.ubuntu.com/ubuntu jammy-updates/main amd64 libudev1 amd64 249.11-0ubuntu3.11 [78.0 kB]\n",
            "Get:5 http://archive.ubuntu.com/ubuntu jammy-updates/main amd64 udev amd64 249.11-0ubuntu3.11 [1,557 kB]\n",
            "Get:6 http://archive.ubuntu.com/ubuntu jammy/main amd64 libfuse3-3 amd64 3.10.5-1build1 [81.2 kB]\n",
            "Get:7 http://archive.ubuntu.com/ubuntu jammy-updates/main amd64 snapd amd64 2.58+22.04.1 [23.8 MB]\n",
            "Get:8 http://archive.ubuntu.com/ubuntu jammy-updates/universe amd64 chromium-browser amd64 1:85.0.4183.83-0ubuntu2.22.04.1 [49.2 kB]\n",
            "Get:9 http://archive.ubuntu.com/ubuntu jammy-updates/universe amd64 chromium-chromedriver amd64 1:85.0.4183.83-0ubuntu2.22.04.1 [2,308 B]\n",
            "Get:10 http://archive.ubuntu.com/ubuntu jammy-updates/main amd64 systemd-hwe-hwdb all 249.11.3 [2,908 B]\n",
            "Fetched 26.4 MB in 1s (18.9 MB/s)\n",
            "Preconfiguring packages ...\n",
            "Selecting previously unselected package apparmor.\n",
            "(Reading database ... 120899 files and directories currently installed.)\n",
            "Preparing to unpack .../apparmor_3.0.4-2ubuntu2.3_amd64.deb ...\n",
            "Unpacking apparmor (3.0.4-2ubuntu2.3) ...\n",
            "Selecting previously unselected package liblzo2-2:amd64.\n",
            "Preparing to unpack .../liblzo2-2_2.10-2build3_amd64.deb ...\n",
            "Unpacking liblzo2-2:amd64 (2.10-2build3) ...\n",
            "Selecting previously unselected package squashfs-tools.\n",
            "Preparing to unpack .../squashfs-tools_1%3a4.5-3build1_amd64.deb ...\n",
            "Unpacking squashfs-tools (1:4.5-3build1) ...\n",
            "Preparing to unpack .../libudev1_249.11-0ubuntu3.11_amd64.deb ...\n",
            "Unpacking libudev1:amd64 (249.11-0ubuntu3.11) over (249.11-0ubuntu3.10) ...\n",
            "Setting up libudev1:amd64 (249.11-0ubuntu3.11) ...\n",
            "Selecting previously unselected package udev.\n",
            "(Reading database ... 121107 files and directories currently installed.)\n",
            "Preparing to unpack .../udev_249.11-0ubuntu3.11_amd64.deb ...\n",
            "Unpacking udev (249.11-0ubuntu3.11) ...\n",
            "Selecting previously unselected package libfuse3-3:amd64.\n",
            "Preparing to unpack .../libfuse3-3_3.10.5-1build1_amd64.deb ...\n",
            "Unpacking libfuse3-3:amd64 (3.10.5-1build1) ...\n",
            "Selecting previously unselected package snapd.\n",
            "Preparing to unpack .../snapd_2.58+22.04.1_amd64.deb ...\n",
            "Unpacking snapd (2.58+22.04.1) ...\n",
            "Setting up apparmor (3.0.4-2ubuntu2.3) ...\n",
            "Created symlink /etc/systemd/system/sysinit.target.wants/apparmor.service → /lib/systemd/system/apparmor.service.\n",
            "Setting up liblzo2-2:amd64 (2.10-2build3) ...\n",
            "Setting up squashfs-tools (1:4.5-3build1) ...\n",
            "Setting up udev (249.11-0ubuntu3.11) ...\n",
            "invoke-rc.d: could not determine current runlevel\n",
            "invoke-rc.d: policy-rc.d denied execution of start.\n",
            "Setting up libfuse3-3:amd64 (3.10.5-1build1) ...\n",
            "Setting up snapd (2.58+22.04.1) ...\n",
            "Created symlink /etc/systemd/system/multi-user.target.wants/snapd.aa-prompt-listener.service → /lib/systemd/system/snapd.aa-prompt-listener.service.\n",
            "Created symlink /etc/systemd/system/multi-user.target.wants/snapd.apparmor.service → /lib/systemd/system/snapd.apparmor.service.\n",
            "Created symlink /etc/systemd/system/multi-user.target.wants/snapd.autoimport.service → /lib/systemd/system/snapd.autoimport.service.\n",
            "Created symlink /etc/systemd/system/multi-user.target.wants/snapd.core-fixup.service → /lib/systemd/system/snapd.core-fixup.service.\n",
            "Created symlink /etc/systemd/system/multi-user.target.wants/snapd.recovery-chooser-trigger.service → /lib/systemd/system/snapd.recovery-chooser-trigger.service.\n",
            "Created symlink /etc/systemd/system/multi-user.target.wants/snapd.seeded.service → /lib/systemd/system/snapd.seeded.service.\n",
            "Created symlink /etc/systemd/system/cloud-final.service.wants/snapd.seeded.service → /lib/systemd/system/snapd.seeded.service.\n",
            "Unit /lib/systemd/system/snapd.seeded.service is added as a dependency to a non-existent unit cloud-final.service.\n",
            "Created symlink /etc/systemd/system/multi-user.target.wants/snapd.service → /lib/systemd/system/snapd.service.\n",
            "Created symlink /etc/systemd/system/timers.target.wants/snapd.snap-repair.timer → /lib/systemd/system/snapd.snap-repair.timer.\n",
            "Created symlink /etc/systemd/system/sockets.target.wants/snapd.socket → /lib/systemd/system/snapd.socket.\n",
            "Created symlink /etc/systemd/system/final.target.wants/snapd.system-shutdown.service → /lib/systemd/system/snapd.system-shutdown.service.\n",
            "Selecting previously unselected package chromium-browser.\n",
            "(Reading database ... 121340 files and directories currently installed.)\n",
            "Preparing to unpack .../chromium-browser_1%3a85.0.4183.83-0ubuntu2.22.04.1_amd64.deb ...\n",
            "=> Installing the chromium snap\n",
            "==> Checking connectivity with the snap store\n",
            "===> System doesn't have a working snapd, skipping\n",
            "Unpacking chromium-browser (1:85.0.4183.83-0ubuntu2.22.04.1) ...\n",
            "Selecting previously unselected package chromium-chromedriver.\n",
            "Preparing to unpack .../chromium-chromedriver_1%3a85.0.4183.83-0ubuntu2.22.04.1_amd64.deb ...\n",
            "Unpacking chromium-chromedriver (1:85.0.4183.83-0ubuntu2.22.04.1) ...\n",
            "Selecting previously unselected package systemd-hwe-hwdb.\n",
            "Preparing to unpack .../systemd-hwe-hwdb_249.11.3_all.deb ...\n",
            "Unpacking systemd-hwe-hwdb (249.11.3) ...\n",
            "Setting up systemd-hwe-hwdb (249.11.3) ...\n",
            "Setting up chromium-browser (1:85.0.4183.83-0ubuntu2.22.04.1) ...\n",
            "update-alternatives: using /usr/bin/chromium-browser to provide /usr/bin/x-www-browser (x-www-browser) in auto mode\n",
            "update-alternatives: using /usr/bin/chromium-browser to provide /usr/bin/gnome-www-browser (gnome-www-browser) in auto mode\n",
            "Setting up chromium-chromedriver (1:85.0.4183.83-0ubuntu2.22.04.1) ...\n",
            "Processing triggers for udev (249.11-0ubuntu3.11) ...\n",
            "Processing triggers for hicolor-icon-theme (0.17-2) ...\n",
            "Processing triggers for libc-bin (2.35-0ubuntu3.4) ...\n",
            "/sbin/ldconfig.real: /usr/local/lib/libtbbbind_2_0.so.3 is not a symbolic link\n",
            "\n",
            "/sbin/ldconfig.real: /usr/local/lib/libtbbbind.so.3 is not a symbolic link\n",
            "\n",
            "/sbin/ldconfig.real: /usr/local/lib/libtbbmalloc.so.2 is not a symbolic link\n",
            "\n",
            "/sbin/ldconfig.real: /usr/local/lib/libtbb.so.12 is not a symbolic link\n",
            "\n",
            "/sbin/ldconfig.real: /usr/local/lib/libtbbbind_2_5.so.3 is not a symbolic link\n",
            "\n",
            "/sbin/ldconfig.real: /usr/local/lib/libtbbmalloc_proxy.so.2 is not a symbolic link\n",
            "\n",
            "Processing triggers for man-db (2.10.2-1) ...\n",
            "Processing triggers for dbus (1.12.20-2ubuntu4.1) ...\n",
            "cp: '/usr/lib/chromium-browser/chromedriver' and '/usr/bin/chromedriver' are the same file\n"
          ]
        }
      ],
      "source": [
        "# Selenium 설치\n",
        "!pip install selenium\n",
        "!apt-get update\n",
        "!apt install chromium-chromedriver\n",
        "!cp /usr/lib/chromium-browser/chromedriver /usr/bin"
      ]
    },
    {
      "cell_type": "code",
      "source": [
        "!pip install beautifulsoup4\n",
        "!pip install tqdm"
      ],
      "metadata": {
        "colab": {
          "base_uri": "https://localhost:8080/"
        },
        "id": "5tGSTbpdPf3z",
        "outputId": "8dfe8421-a235-42a8-af78-58b04059be35"
      },
      "execution_count": 13,
      "outputs": [
        {
          "output_type": "stream",
          "name": "stdout",
          "text": [
            "Requirement already satisfied: beautifulsoup4 in /usr/local/lib/python3.10/dist-packages (4.11.2)\n",
            "Requirement already satisfied: soupsieve>1.2 in /usr/local/lib/python3.10/dist-packages (from beautifulsoup4) (2.5)\n",
            "Requirement already satisfied: tqdm in /usr/local/lib/python3.10/dist-packages (4.66.1)\n"
          ]
        }
      ]
    },
    {
      "cell_type": "code",
      "source": [
        "# Selenium 모듈 불러와서 driver 설정하기\n",
        "from selenium import webdriver\n",
        "from selenium.webdriver.chrome.options import Options\n",
        "from selenium.webdriver.common.by import By\n",
        "\n",
        "options = Options()\n",
        "options.add_argument('--headless')\n",
        "options.add_argument('--no-sandbox')\n",
        "options.add_argument('--disable-dev-shm-usage')\n",
        "driver = webdriver.Chrome(options=options)"
      ],
      "metadata": {
        "id": "a_McZf_T7lgN"
      },
      "execution_count": 14,
      "outputs": []
    },
    {
      "cell_type": "code",
      "source": [
        "# 필요한 모듈 불러오기\n",
        "import os\n",
        "import glob\n",
        "import time\n",
        "import pandas as pd\n",
        "from tqdm import tqdm\n",
        "from bs4 import BeautifulSoup"
      ],
      "metadata": {
        "id": "GFtn6byRBSSn"
      },
      "execution_count": 15,
      "outputs": []
    },
    {
      "cell_type": "code",
      "source": [
        "# 第10屆 立法委員 메인 페이지 정보 parsing\n",
        "url=\"https://www.ly.gov.tw/Pages/List.aspx?nodeid=109\"\n",
        "driver.get(url)\n",
        "time.sleep(1)\n",
        "\n",
        "html=driver.page_source\n",
        "soup=BeautifulSoup(html, 'html.parser')\n",
        "\n",
        "# 의원 정보가 담긴 구간 추출\n",
        "contents = soup.find_all('div', class_='content row')"
      ],
      "metadata": {
        "id": "2eF5BQJYO6RT"
      },
      "execution_count": 17,
      "outputs": []
    },
    {
      "cell_type": "code",
      "source": [
        "# 현직의원과 이직의원 그룹 나누기\n",
        "divs_incumbent = contents[0].find_all('div', class_='col-xs-4 col-sm-3 col-md-3 col-lg-15')\n",
        "divs_resigned = contents[1].find_all('div', class_='col-xs-4 col-sm-3 col-md-3 col-lg-15')"
      ],
      "metadata": {
        "id": "SmHeMLvh7NaN"
      },
      "execution_count": 18,
      "outputs": []
    },
    {
      "cell_type": "code",
      "source": [
        "# 실제 정보를 추출하는 코드\n",
        "姓名=[]\n",
        "英文姓名=[]\n",
        "屆別=[]\n",
        "性別=[]\n",
        "黨籍=[]\n",
        "選區=[]\n",
        "委員會=[]\n",
        "到職日期=[]\n",
        "學歷=[]\n",
        "經歷=[]\n",
        "電話=[]\n",
        "傳真=[]\n",
        "通訊處=[]\n",
        "備註=[]\n",
        "區分=[]\n",
        "URL=[]\n",
        "\n",
        "# 현직의원 정보 처리 : divs_incumbent\n",
        "for div in tqdm(divs_incumbent, desc='현직의원 정보 추출 :'):\n",
        "    # 의원 개별 url 추출\n",
        "    member_url = \"https://www.ly.gov.tw\" + div.find('a')['href']\n",
        "    # driver로 url 읽고 soup 생성\n",
        "    driver.get(member_url)\n",
        "    time.sleep(1)\n",
        "    html = driver.page_source\n",
        "    soup = BeautifulSoup(html, 'html.parser')\n",
        "    # 이름 추출\n",
        "    legislatorname = soup.find('div', class_='legislatorname').text.strip()\n",
        "    姓名.append(legislatorname)\n",
        "\n",
        "    # 좌측 정보 구간 추출\n",
        "    info_left = soup.find('div', class_='info-left')\n",
        "    left_infos = info_left.find_all('li')\n",
        "\n",
        "    英文姓名.append(left_infos[0].text.strip().split('：')[1])\n",
        "    屆別.append(left_infos[1].text.strip().split('：')[1])\n",
        "    性別.append(left_infos[2].text.strip().split('：')[1])\n",
        "    黨籍.append(left_infos[3].text.strip().split('：')[1])\n",
        "    選區.append(left_infos[5].text.strip().split('：')[1])\n",
        "    委員會_list = []\n",
        "    for li in left_infos[6].find_all('li'):\n",
        "        委員會_list.append(li.text.strip())\n",
        "    委員會.append(','.join(委員會_list))\n",
        "    到職日期.append(left_infos[-1].text.strip().split('：')[1])\n",
        "\n",
        "    # 우측 정보 구간 추출\n",
        "    info_right = soup.find('div', class_='col-sm-8 info-right')\n",
        "    right_titles = []\n",
        "    right_contents = []\n",
        "    for h4 in info_right.find_all('h4', class_='title'):\n",
        "        right_titles.append(h4.text.strip())\n",
        "    for ul in info_right.find_all('ul'):\n",
        "        right_contents.append(ul.find_all('li'))\n",
        "\n",
        "    # 學歷~通訊處 추출\n",
        "    for i in range(len(right_titles)):\n",
        "        if right_titles[i] == '學歷':\n",
        "            學歷.append(','.join([li.text.strip() for li in right_contents[i]]))\n",
        "        elif right_titles[i] == '經歷':\n",
        "            經歷.append(','.join([li.text.strip() for li in right_contents[i]]))\n",
        "        elif right_titles[i] == '電話':\n",
        "            電話.append(','.join([li.text.strip() for li in right_contents[i]]))\n",
        "        elif right_titles[i] == '傳真':\n",
        "            傳真.append(','.join([li.text.strip() for li in right_contents[i]]))\n",
        "        elif right_titles[i] == '通訊處':\n",
        "            通訊處.append(','.join([li.text.strip() for li in right_contents[i]]))\n",
        "    備註.append('')\n",
        "    區分.append('現任')\n",
        "    URL.append(member_url)\n",
        "\n",
        "# 이직의원 정보 처리 : divs_resigned\n",
        "for div in tqdm(divs_resigned, desc='이직의원 정보 추출 :'):\n",
        "    # 의원 개별 url 추출\n",
        "    member_url = \"https://www.ly.gov.tw\" + div.find('a')['href']\n",
        "    # driver로 url 읽고 soup 생성\n",
        "    driver.get(member_url)\n",
        "    time.sleep(1)\n",
        "    html = driver.page_source\n",
        "    soup = BeautifulSoup(html, 'html.parser')\n",
        "    # # 이름 추출\n",
        "    # legislatorname = soup.find('div', class_='legislatorname').text.strip()\n",
        "    # 姓名.append(legislatorname)\n",
        "\n",
        "    # 좌측 정보 구간 추출\n",
        "    info_left = soup.find('div', class_='info-left')\n",
        "    left_infos = info_left.find_all('li')\n",
        "\n",
        "    英文姓名.append(left_infos[0].text.strip().split('：')[1])\n",
        "    屆別.append(left_infos[1].text.strip().split('：')[1])\n",
        "    性別.append(left_infos[2].text.strip().split('：')[1])\n",
        "    黨籍.append(left_infos[3].text.strip().split('：')[1])\n",
        "    選區.append(left_infos[5].text.strip().split('：')[1])\n",
        "    委員會_list = []\n",
        "    for li in left_infos[6].find_all('li'):\n",
        "        委員會_list.append(li.text.strip())\n",
        "    委員會.append(','.join(委員會_list))\n",
        "    到職日期.append(left_infos[-1].text.strip().split('：')[1])\n",
        "\n",
        "    # 우측 정보 구간 추출\n",
        "    info_right = soup.find('div', class_='col-sm-8 info-right')\n",
        "    right_titles = []\n",
        "    right_contents = []\n",
        "    for h4 in info_right.find_all('h4', class_='title'):\n",
        "        right_titles.append(h4.text.strip())\n",
        "    for ul in info_right.find_all('ul'):\n",
        "        right_contents.append(ul.find_all('li'))\n",
        "\n",
        "    # 學歷~通訊處 추출\n",
        "    for i in range(len(right_titles)):\n",
        "        if right_titles[i] == '學歷':\n",
        "            學歷.append(','.join([li.text.strip() for li in right_contents[i]]))\n",
        "        elif right_titles[i] == '經歷':\n",
        "            經歷.append(','.join([li.text.strip() for li in right_contents[i]]))\n",
        "        elif right_titles[i] == '電話':\n",
        "            電話.append(','.join([li.text.strip() for li in right_contents[i]]))\n",
        "        elif right_titles[i] == '傳真':\n",
        "            傳真.append(','.join([li.text.strip() for li in right_contents[i]]))\n",
        "        elif right_titles[i] == '通訊處':\n",
        "            通訊處.append(','.join([li.text.strip() for li in right_contents[i]]))\n",
        "        elif right_titles[i] == '備註':\n",
        "            備註.append(','.join([li.text.strip() for li in right_contents[i]]))\n",
        "    區分.append('離職')\n",
        "    URL.append(member_url)"
      ],
      "metadata": {
        "id": "uBhsAgJoyM4P"
      },
      "execution_count": null,
      "outputs": []
    },
    {
      "cell_type": "code",
      "source": [
        "import pandas as pd\n",
        "df_new = pd.DataFrame({\n",
        "    '姓名': 姓名,\n",
        "    '英文姓名': 英文姓名,\n",
        "    '屆別': 屆別,\n",
        "    '性別': 性別,\n",
        "    '黨籍': 黨籍,\n",
        "    '選區': 選區,\n",
        "    '委員會': 委員會,\n",
        "    '到職日期': 到職日期,\n",
        "    '學歷': 學歷,\n",
        "    '經歷': 經歷,\n",
        "    '電話': 電話,\n",
        "    '傳真': 傳真,\n",
        "    '通訊處': 通訊處,\n",
        "    '備註': 備註,\n",
        "    '區分': 區分,\n",
        "    'URL': URL\n",
        "})\n",
        "df_new\n",
        "df_new.to_excel('.../Taiwan/legislators_10th.xlsx', index=False)"
      ],
      "metadata": {
        "id": "7L3c-pYShuYi"
      },
      "execution_count": null,
      "outputs": []
    }
  ]
}