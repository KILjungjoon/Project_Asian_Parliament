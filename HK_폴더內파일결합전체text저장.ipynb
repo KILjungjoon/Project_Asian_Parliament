{
  "nbformat": 4,
  "nbformat_minor": 0,
  "metadata": {
    "colab": {
      "provenance": [],
      "mount_file_id": "1Bocl16BueS7KoN8_H4Y7CbErKqlq2XaH",
      "authorship_tag": "ABX9TyO7PjRi5PF23AFS18uovwZb",
      "include_colab_link": true
    },
    "kernelspec": {
      "name": "python3",
      "display_name": "Python 3"
    },
    "language_info": {
      "name": "python"
    }
  },
  "cells": [
    {
      "cell_type": "markdown",
      "metadata": {
        "id": "view-in-github",
        "colab_type": "text"
      },
      "source": [
        "<a href=\"https://colab.research.google.com/github/KILjungjoon/Project_Asian_Parliament/blob/main/HK_%ED%8F%B4%EB%8D%94%E5%85%A7%ED%8C%8C%EC%9D%BC%EA%B2%B0%ED%95%A9%EC%A0%84%EC%B2%B4text%EC%A0%80%EC%9E%A5.ipynb\" target=\"_parent\"><img src=\"https://colab.research.google.com/assets/colab-badge.svg\" alt=\"Open In Colab\"/></a>"
      ]
    },
    {
      "cell_type": "code",
      "execution_count": 17,
      "metadata": {
        "colab": {
          "base_uri": "https://localhost:8080/"
        },
        "id": "48hx50_VaR-U",
        "outputId": "b65d62b9-3edf-4586-e4d2-b76f06e87dd6"
      },
      "outputs": [
        {
          "output_type": "execute_result",
          "data": {
            "text/plain": [
              "['20200108question.txt',\n",
              " '20200115question.txt',\n",
              " '20200226question.txt',\n",
              " '20200318question.txt',\n",
              " '20200422question.txt',\n",
              " '20200429question.txt',\n",
              " '20200506question.txt',\n",
              " '20200513question.txt',\n",
              " '20200520question.txt',\n",
              " '20200527question.txt',\n",
              " '20200603question.txt',\n",
              " '20200610question.txt',\n",
              " '20200617question.txt',\n",
              " '20200624question.txt',\n",
              " '20200708question.txt',\n",
              " '20200715question.txt',\n",
              " '20201021question.txt',\n",
              " '20201028question.txt',\n",
              " '20201104question.txt',\n",
              " '20201111question.txt',\n",
              " '20201118question.txt',\n",
              " '20201202question.txt',\n",
              " '20201209question.txt',\n",
              " '20201216question.txt']"
            ]
          },
          "metadata": {},
          "execution_count": 17
        }
      ],
      "source": [
        "# 파일명 리스트 만들기\n",
        "import os\n",
        "\n",
        "path = \"/content/drive/MyDrive/★Project_prof.Jang/Hong Kong/data/2020\"\n",
        "\n",
        "os.chdir(path) # 해당 폴더로 이동\n",
        "files = os.listdir(path) # 해당 폴더에 있는 파일 이름을 리스트 형태로 받음\n",
        "files.sort()\n",
        "files"
      ]
    },
    {
      "cell_type": "code",
      "source": [
        "question2020=''\n",
        "for file in files :\n",
        "  f=open(file, 'r', encoding='utf-8')\n",
        "  text=f.read()\n",
        "  question2020=question2020+text"
      ],
      "metadata": {
        "id": "h4P9VrAvefKH"
      },
      "execution_count": 18,
      "outputs": []
    },
    {
      "cell_type": "code",
      "source": [
        "# question2020\n",
        "\n",
        "# 파일 저장\n",
        "f = open('/content/drive/MyDrive/★Project_prof.Jang/Hong Kong/data/question2020.txt', 'w')\n",
        "f.write(question2020)\n",
        "f.close()"
      ],
      "metadata": {
        "id": "CI-Kb67nq6hQ"
      },
      "execution_count": 19,
      "outputs": []
    }
  ]
}