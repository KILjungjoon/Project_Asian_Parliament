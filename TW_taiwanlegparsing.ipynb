{
  "nbformat": 4,
  "nbformat_minor": 0,
  "metadata": {
    "colab": {
      "provenance": [],
      "authorship_tag": "ABX9TyPsZza3WsjGZgoms/Ti1Rw1",
      "include_colab_link": true
    },
    "kernelspec": {
      "name": "python3",
      "display_name": "Python 3"
    },
    "language_info": {
      "name": "python"
    }
  },
  "cells": [
    {
      "cell_type": "markdown",
      "metadata": {
        "id": "view-in-github",
        "colab_type": "text"
      },
      "source": [
        "<a href=\"https://colab.research.google.com/github/KILjungjoon/Project_Asian_Parliament/blob/main/TW_taiwanlegparsing.ipynb\" target=\"_parent\"><img src=\"https://colab.research.google.com/assets/colab-badge.svg\" alt=\"Open In Colab\"/></a>"
      ]
    },
    {
      "cell_type": "code",
      "source": [
        "from google.colab import drive\n",
        "drive.mount('/content/drive')"
      ],
      "metadata": {
        "colab": {
          "base_uri": "https://localhost:8080/"
        },
        "id": "2egl8XLB4dl6",
        "outputId": "b477a2f6-586c-4c78-8737-3797c58695ca"
      },
      "execution_count": 1,
      "outputs": [
        {
          "output_type": "stream",
          "name": "stdout",
          "text": [
            "Mounted at /content/drive\n"
          ]
        }
      ]
    },
    {
      "cell_type": "code",
      "execution_count": 2,
      "metadata": {
        "colab": {
          "base_uri": "https://localhost:8080/"
        },
        "id": "BpoM9R0sxnKs",
        "outputId": "a76c3797-7f55-4c6b-f4d1-efb8f28c1322"
      },
      "outputs": [
        {
          "output_type": "stream",
          "name": "stdout",
          "text": [
            "Looking in indexes: https://pypi.org/simple, https://us-python.pkg.dev/colab-wheels/public/simple/\n",
            "Requirement already satisfied: beautifulsoup4 in /usr/local/lib/python3.8/dist-packages (4.6.3)\n"
          ]
        }
      ],
      "source": [
        "!pip install beautifulsoup4"
      ]
    },
    {
      "cell_type": "code",
      "source": [
        "!pip install tika"
      ],
      "metadata": {
        "colab": {
          "base_uri": "https://localhost:8080/"
        },
        "id": "ELGV0c2Qyckg",
        "outputId": "c94e5c99-a490-498d-fc97-85df2043e6e3"
      },
      "execution_count": 3,
      "outputs": [
        {
          "output_type": "stream",
          "name": "stdout",
          "text": [
            "Looking in indexes: https://pypi.org/simple, https://us-python.pkg.dev/colab-wheels/public/simple/\n",
            "Collecting tika\n",
            "  Downloading tika-1.24.tar.gz (28 kB)\n",
            "Requirement already satisfied: setuptools in /usr/local/lib/python3.8/dist-packages (from tika) (57.4.0)\n",
            "Requirement already satisfied: requests in /usr/local/lib/python3.8/dist-packages (from tika) (2.23.0)\n",
            "Requirement already satisfied: certifi>=2017.4.17 in /usr/local/lib/python3.8/dist-packages (from requests->tika) (2022.12.7)\n",
            "Requirement already satisfied: idna<3,>=2.5 in /usr/local/lib/python3.8/dist-packages (from requests->tika) (2.10)\n",
            "Requirement already satisfied: chardet<4,>=3.0.2 in /usr/local/lib/python3.8/dist-packages (from requests->tika) (3.0.4)\n",
            "Requirement already satisfied: urllib3!=1.25.0,!=1.25.1,<1.26,>=1.21.1 in /usr/local/lib/python3.8/dist-packages (from requests->tika) (1.24.3)\n",
            "Building wheels for collected packages: tika\n",
            "  Building wheel for tika (setup.py) ... \u001b[?25l\u001b[?25hdone\n",
            "  Created wheel for tika: filename=tika-1.24-py3-none-any.whl size=32892 sha256=585774af1ec14a53a119edd37ccba45530867d29b0e11b75886df59b6745fdba\n",
            "  Stored in directory: /root/.cache/pip/wheels/75/66/8b/d1acbac7d49f3d98ade76c51ae5d72cec1866131a3b1ad9f82\n",
            "Successfully built tika\n",
            "Installing collected packages: tika\n",
            "Successfully installed tika-1.24\n"
          ]
        }
      ]
    },
    {
      "cell_type": "markdown",
      "source": [
        "* 2019년과 2020년 회의날짜"
      ],
      "metadata": {
        "id": "lxDQlZ32Ow49"
      }
    },
    {
      "cell_type": "code",
      "source": [
        "# 2019년과 2020년 회의날짜 리스트 생성\n",
        "date=['090701', '090702', '090703', '090704', '090705', '090706', '090707', '090708', '090709', '090710', '090711', '090712', '090713', '090714', '090715', '090716', '090801', '090802', '090803', '090804', '090805', '090806', '090807', '090808', '090809', '090810', '090811', '090812', '090813', '090814', '090815', '100101', '100102', '100103', '100104', '100105', '100106', '100107', '100108', '100109', '100110', '100111', '100112', '100113', '100114', '100115', '100201', '100202', '100203', '100204', '100205', '100206', '100207', '100208', '100209', '100210', '100211', '100306', '100314'] "
      ],
      "metadata": {
        "id": "39dfKPsl4Ley"
      },
      "execution_count": 50,
      "outputs": []
    },
    {
      "cell_type": "code",
      "source": [
        "import requests\n",
        "\n",
        "for d in date :\n",
        "  year=d[:2]\n",
        "  month=d[2:4]\n",
        "  day=d[4:]\n",
        "  url = 'https://lci.ly.gov.tw/LyLCEW/agendarec1/02/pdf/'+year+'/'+month+'/'+day+'/LCEWC03_'+d+'.pdf'\n",
        "  response = requests.get(url)\n",
        "  with open('/content/drive/MyDrive/★Project_prof.Jang/Taiwan/LCEWC03_'+d+'.pdf', \"wb\") as f:\n",
        "    f.write(response.content)"
      ],
      "metadata": {
        "id": "OfIWGsBgxty7"
      },
      "execution_count": 6,
      "outputs": []
    },
    {
      "cell_type": "markdown",
      "source": [
        "* 분석대상 텍스트가 없는 날짜'090801', '090809', '090814','100205'를 제거"
      ],
      "metadata": {
        "id": "qQXWMrRA1_R5"
      }
    },
    {
      "cell_type": "code",
      "source": [
        "members09_10=['吳思瑤', '姚文智', '呂孫綾', '林淑芬', '高志鵬', '吳秉叡', '蘇巧慧', '張宏陸', '羅致政', '江永昌', '吳琪銘', '鄭運鵬', '陳賴素美', '鄭寶清', '蔡其昌', '張廖萬堅', '萬國書', '何欣純', '葉宜津', '黃偉哲', '陳亭妃', '林俊憲', '王定宇', '邱議瑩', '邱志偉', '劉世芳', '林岱樺', '管碧玲', '李昆澤', '趙天麟', '許智傑', '賴瑞隆', '蔡適應', '陳歐珀', '柯建銘', '黃秀芳', '洪宗熠', '陳素月', '蘇治芬', '劉建國', '李俊俋', '蔡易餘', '陳明文', '蘇震清', '鍾佳濱', '莊瑞雄', '蕭美琴', '劉櫂豪', '楊曜', '陳瑩', '蔣萬安', '李彥秀', '蔣乃辛', '費鴻泰', '賴士葆', '林德福', '羅明才', '陳學聖', '呂玉玲', '顏寬恆', '盧秀燕', '江啟臣', '林為洲', '陳超明', '徐志榮', '王惠美', '馬文君', '許淑華', '楊鎮浯', '陳雪生', '鄭天財 Sra.Kacaw', '廖國棟 Sufin.Siluko', '孔文吉', '簡東明 Uliw.Qaljupayare', '林昶佐', '黃國昌', '洪慈庸', '高金素梅', '趙正宇', '吳焜裕', '吳玉琴', '陳曼麗', '顧立雄', '蔡培慧', '王榮璋', '谷辣斯‧尤達卡 Kolas.Yotaka', '余婉如', '蘇嘉全', '段宜康', '鄭麗君', '陳其邁', '尤美女', '李應元', '鍾孔炤', '林靜儀', '徐國勇', '周春米', '王金平', '柯志恩', '陳宜民', '林麗嬋', '許毓仁', '曾銘宗', '黃昭順', '吳志揚', '張麗善', '徐榛蔚', '王育敏', '高潞‧以用‧巴魕剌 Kawlo.Iyun.Pacidal', '徐永明', '李鴻鈞', '陳怡潔', '周陳秀霞',\n",
        "              '吳思瑤', '何志偉', '蔣萬安', '高嘉瑜', '林昶佐', '林奕華', '費鴻泰', '賴士葆', '洪孟楷', '林淑芬', '余天', '吳秉叡', '蘇巧', '張宏陸', '羅致政', '江永昌', '林德福', '吳琪銘', '羅明才', '賴品妤', '鄭運鵬', '黃世杰', '魯明哲', '萬美玲', '呂玉玲', '趙正宇', '蔡其昌', '陳柏惟', '楊瓊瓔', '張廖萬堅', '莊競程', '黃國書', '何欣純', '江啟臣', '賴惠員', '郭國文', '陳亭妃', '林宜瑾', '林俊憲', '王定宇', '邱議瑩', '邱志偉', '劉世芳', '林岱樺', '李昆澤', '趙天麟', '許智傑', '賴瑞隆', '林為洲', '林思銘', '陳超明', '徐志榮', '陳秀寳', '黃秀芳', '謝衣', '陳素月', '馬文君', '許淑華', '蘇治芬', '劉建國', '蔡易餘', '陳明文', '鍾佳濱', '蘇震清', '陳歐珀', '傅崐萁', '劉櫂豪', '楊曜', '陳玉珍', '陳雪生', '蔡適應', '鄭正鈐', '王美惠', '鄭天財 Sra.Kacaw', '陳瑩', '廖國棟 Sufin.Siluko', '高金素梅', '孔文吉', '伍麗華  aidhai.Tahovecahe', '吳玉琴', '洪申翰', '范雲', '羅美玲', '邱泰源', '周春米', '游錫堃', '柯建銘', '管碧玲', '莊瑞雄', '沈發惠', '林楚', '湯蕙禎', '曾銘宗', '葉毓蘭', '李貴敏', '吳斯懷', '鄭麗文', '林文瑞', '廖婉汝', '翁重鈞', '吳怡玎', '陳以信', '張育美', '李德維', '溫玉霞', '賴香伶', '張其祿', '高虹安', '邱臣遠', '蔡壁如', '陳椒華', '邱顯智', '王婉諭']"
      ],
      "metadata": {
        "id": "UBPjbD31gtbx"
      },
      "execution_count": 21,
      "outputs": []
    },
    {
      "cell_type": "code",
      "source": [
        "date=['090701', '090702', '090703', '090704', '090705', '090706', '090707', '090708', '090709', '090710', '090711', '090712', '090713', '090714', '090715', '090716', '090802', '090803', '090804', '090805', '090806', '090807', '090808', '090810', '090811', '090812', '090813', '090815', '100101', '100102', '100103', '100104', '100105', '100106', '100107', '100108', '100109', '100110', '100111', '100112', '100113', '100114', '100115', '100201', '100202', '100203', '100204', '100206', '100207', '100208', '100209', '100210', '100211', '100306', '100314'] "
      ],
      "metadata": {
        "id": "ycnnp8jR2LxX"
      },
      "execution_count": 25,
      "outputs": []
    },
    {
      "cell_type": "code",
      "source": [
        "import re\n",
        "import requests\n",
        "from tika import parser\n",
        "\n",
        "for d in date :\n",
        "  year=d[:2]\n",
        "  month=d[2:4]\n",
        "  day=d[4:]\n",
        "  url = 'https://lci.ly.gov.tw/LyLCEW/agendarec1/02/pdf/'+year+'/'+month+'/'+day+'/LCEWC03_'+d+'.pdf'\n",
        "  raw= parser.from_file(url)  # 딕셔너리가 생성된다.\n",
        "  text=raw['content']          # key 'content'의 value를 불러와서 text에 담는다.\n",
        "  t01=text.split('質詢事項')[1]\n",
        "  if '\\n其他事項' in t01 :\n",
        "    t02=t01.split('\\n其他事項')[0]\n",
        "  else :\n",
        "    t02=t01\n",
        "  t03=t02.split('對行政院院長提出施政方針及施政報告繼續質詢')[0]\n",
        "  if '本次會議記名表決結果名單' in t03 :\n",
        "    t04=t03.split('本次會議記名表決結果名單')[0]\n",
        "  else :\n",
        "    t04=t03\n",
        "  if '討論事項' in t04 :\n",
        "    t041=t04.split('討論事項')[0]\n",
        "  else :\n",
        "    t041=t04\n",
        "  t042=re.sub(\"[\\d]\", \"\", t041)\n",
        "  t05=t042.replace('甲、行政院答復部分','')\n",
        "  t06=t05.replace('乙、本院委員質詢部分','')\n",
        "  # t07=re.sub(\"[\\d]{1,2} \\n\\n立法院第 [\\d]{1,2} 屆第 [\\d]{1,2} 會期第 [\\d]{1,2} 次會議議事錄\", \"\", t06)\n",
        "  # t07=re.sub(\"[\\d]{1,2} \\n\\n立法院第 [\\d]{1,2}屆第 [\\d]{1,2}會期第 [\\d]{1,2}次會議議事錄\", \"\", t06)\n",
        "  # t08=re.sub(\"[\\d]{1,2}\\n立法院第 [\\d]{1,2} 屆第 [\\d]{1,2} 會期第 [\\d]{1,2} 次會議議事錄\", \"\", t07)\n",
        "  # t08=re.sub(\"[\\d]{1,2}\\n立法院第 [\\d]{1,2}屆第 [\\d]{1,2}會期第 [\\d]{1,2}次會議議事錄\", \"\", t07)\n",
        "  # t08=t06.replace(\"立法院第屆第會期第次會議議事錄\",\"\")\n",
        "  t09=t06.replace('\\n','')\n",
        "  t10=t09.replace(' ','')\n",
        "  t11=re.sub(\"行政院函送[一-龥]{1,2}委員[一-龥]{1,2}就\", \"\", t10)\n",
        "  t12=re.sub(\"[一-龥]{1}題所提質詢之書面答復，請查照案\", \"\", t11)\n",
        "  t13=re.sub('本院[一-龥]{1,2}委員[一-龥]{1,2}，','', t12)\n",
        "  t14=re.sub('.特向行政院提出質詢', '', t13)\n",
        "  t15=t14.replace('本院沈委員智慧，','')\n",
        "  t151=t15.replace('針對','')\n",
        "  t152=t151.replace('有鑑於','')\n",
        "  t153=t152.replace('鑒於','')\n",
        "  t154=t153.replace('決議〆','')\n",
        "  t155=t154.replace('請查照案','')\n",
        "  t156=re.sub('[「」《》〆]', '', t155)\n",
        "  t157=t156.replace(\"立法院第屆第會期第次會議議事錄\",\"\")\n",
        "\n",
        "\n",
        "  f=open('/content/drive/MyDrive/★Project_prof.Jang/Taiwan/data/LCEWC03_'+d+'.txt', 'w', encoding='utf-8')\n",
        "  f.write(t157)\n",
        "  f.close()"
      ],
      "metadata": {
        "colab": {
          "base_uri": "https://localhost:8080/",
          "height": 1000
        },
        "id": "hOl1tHaW0KKR",
        "outputId": "953bf9ea-dbe3-4ad5-ea40-378f1cb7a333"
      },
      "execution_count": 26,
      "outputs": [
        {
          "output_type": "stream",
          "name": "stderr",
          "text": [
            "2022-12-27 06:15:40,333 [MainThread  ] [INFO ]  Retrieving https://lci.ly.gov.tw/LyLCEW/agendarec1/02/pdf/09/07/01/LCEWC03_090701.pdf to /tmp/lylcew-agendarec1-02-pdf-09-07-01-lcewc03_090701.pdf.\n",
            "INFO:tika.tika:Retrieving https://lci.ly.gov.tw/LyLCEW/agendarec1/02/pdf/09/07/01/LCEWC03_090701.pdf to /tmp/lylcew-agendarec1-02-pdf-09-07-01-lcewc03_090701.pdf.\n",
            "2022-12-27 06:15:42,994 [MainThread  ] [INFO ]  Retrieving https://lci.ly.gov.tw/LyLCEW/agendarec1/02/pdf/09/07/02/LCEWC03_090702.pdf to /tmp/lylcew-agendarec1-02-pdf-09-07-02-lcewc03_090702.pdf.\n",
            "INFO:tika.tika:Retrieving https://lci.ly.gov.tw/LyLCEW/agendarec1/02/pdf/09/07/02/LCEWC03_090702.pdf to /tmp/lylcew-agendarec1-02-pdf-09-07-02-lcewc03_090702.pdf.\n",
            "2022-12-27 06:15:44,979 [MainThread  ] [INFO ]  Retrieving https://lci.ly.gov.tw/LyLCEW/agendarec1/02/pdf/09/07/03/LCEWC03_090703.pdf to /tmp/lylcew-agendarec1-02-pdf-09-07-03-lcewc03_090703.pdf.\n",
            "INFO:tika.tika:Retrieving https://lci.ly.gov.tw/LyLCEW/agendarec1/02/pdf/09/07/03/LCEWC03_090703.pdf to /tmp/lylcew-agendarec1-02-pdf-09-07-03-lcewc03_090703.pdf.\n",
            "2022-12-27 06:15:47,251 [MainThread  ] [INFO ]  Retrieving https://lci.ly.gov.tw/LyLCEW/agendarec1/02/pdf/09/07/04/LCEWC03_090704.pdf to /tmp/lylcew-agendarec1-02-pdf-09-07-04-lcewc03_090704.pdf.\n",
            "INFO:tika.tika:Retrieving https://lci.ly.gov.tw/LyLCEW/agendarec1/02/pdf/09/07/04/LCEWC03_090704.pdf to /tmp/lylcew-agendarec1-02-pdf-09-07-04-lcewc03_090704.pdf.\n",
            "2022-12-27 06:15:55,034 [MainThread  ] [INFO ]  Retrieving https://lci.ly.gov.tw/LyLCEW/agendarec1/02/pdf/09/07/05/LCEWC03_090705.pdf to /tmp/lylcew-agendarec1-02-pdf-09-07-05-lcewc03_090705.pdf.\n",
            "INFO:tika.tika:Retrieving https://lci.ly.gov.tw/LyLCEW/agendarec1/02/pdf/09/07/05/LCEWC03_090705.pdf to /tmp/lylcew-agendarec1-02-pdf-09-07-05-lcewc03_090705.pdf.\n",
            "2022-12-27 06:15:57,318 [MainThread  ] [INFO ]  Retrieving https://lci.ly.gov.tw/LyLCEW/agendarec1/02/pdf/09/07/06/LCEWC03_090706.pdf to /tmp/lylcew-agendarec1-02-pdf-09-07-06-lcewc03_090706.pdf.\n",
            "INFO:tika.tika:Retrieving https://lci.ly.gov.tw/LyLCEW/agendarec1/02/pdf/09/07/06/LCEWC03_090706.pdf to /tmp/lylcew-agendarec1-02-pdf-09-07-06-lcewc03_090706.pdf.\n",
            "2022-12-27 06:15:59,615 [MainThread  ] [INFO ]  Retrieving https://lci.ly.gov.tw/LyLCEW/agendarec1/02/pdf/09/07/07/LCEWC03_090707.pdf to /tmp/lylcew-agendarec1-02-pdf-09-07-07-lcewc03_090707.pdf.\n",
            "INFO:tika.tika:Retrieving https://lci.ly.gov.tw/LyLCEW/agendarec1/02/pdf/09/07/07/LCEWC03_090707.pdf to /tmp/lylcew-agendarec1-02-pdf-09-07-07-lcewc03_090707.pdf.\n",
            "2022-12-27 06:16:02,073 [MainThread  ] [INFO ]  Retrieving https://lci.ly.gov.tw/LyLCEW/agendarec1/02/pdf/09/07/08/LCEWC03_090708.pdf to /tmp/lylcew-agendarec1-02-pdf-09-07-08-lcewc03_090708.pdf.\n",
            "INFO:tika.tika:Retrieving https://lci.ly.gov.tw/LyLCEW/agendarec1/02/pdf/09/07/08/LCEWC03_090708.pdf to /tmp/lylcew-agendarec1-02-pdf-09-07-08-lcewc03_090708.pdf.\n",
            "2022-12-27 06:16:04,380 [MainThread  ] [INFO ]  Retrieving https://lci.ly.gov.tw/LyLCEW/agendarec1/02/pdf/09/07/09/LCEWC03_090709.pdf to /tmp/lylcew-agendarec1-02-pdf-09-07-09-lcewc03_090709.pdf.\n",
            "INFO:tika.tika:Retrieving https://lci.ly.gov.tw/LyLCEW/agendarec1/02/pdf/09/07/09/LCEWC03_090709.pdf to /tmp/lylcew-agendarec1-02-pdf-09-07-09-lcewc03_090709.pdf.\n",
            "2022-12-27 06:16:06,535 [MainThread  ] [INFO ]  Retrieving https://lci.ly.gov.tw/LyLCEW/agendarec1/02/pdf/09/07/10/LCEWC03_090710.pdf to /tmp/lylcew-agendarec1-02-pdf-09-07-10-lcewc03_090710.pdf.\n",
            "INFO:tika.tika:Retrieving https://lci.ly.gov.tw/LyLCEW/agendarec1/02/pdf/09/07/10/LCEWC03_090710.pdf to /tmp/lylcew-agendarec1-02-pdf-09-07-10-lcewc03_090710.pdf.\n",
            "2022-12-27 06:16:08,832 [MainThread  ] [INFO ]  Retrieving https://lci.ly.gov.tw/LyLCEW/agendarec1/02/pdf/09/07/11/LCEWC03_090711.pdf to /tmp/lylcew-agendarec1-02-pdf-09-07-11-lcewc03_090711.pdf.\n",
            "INFO:tika.tika:Retrieving https://lci.ly.gov.tw/LyLCEW/agendarec1/02/pdf/09/07/11/LCEWC03_090711.pdf to /tmp/lylcew-agendarec1-02-pdf-09-07-11-lcewc03_090711.pdf.\n",
            "2022-12-27 06:16:11,086 [MainThread  ] [INFO ]  Retrieving https://lci.ly.gov.tw/LyLCEW/agendarec1/02/pdf/09/07/12/LCEWC03_090712.pdf to /tmp/lylcew-agendarec1-02-pdf-09-07-12-lcewc03_090712.pdf.\n",
            "INFO:tika.tika:Retrieving https://lci.ly.gov.tw/LyLCEW/agendarec1/02/pdf/09/07/12/LCEWC03_090712.pdf to /tmp/lylcew-agendarec1-02-pdf-09-07-12-lcewc03_090712.pdf.\n",
            "2022-12-27 06:16:14,058 [MainThread  ] [INFO ]  Retrieving https://lci.ly.gov.tw/LyLCEW/agendarec1/02/pdf/09/07/13/LCEWC03_090713.pdf to /tmp/lylcew-agendarec1-02-pdf-09-07-13-lcewc03_090713.pdf.\n",
            "INFO:tika.tika:Retrieving https://lci.ly.gov.tw/LyLCEW/agendarec1/02/pdf/09/07/13/LCEWC03_090713.pdf to /tmp/lylcew-agendarec1-02-pdf-09-07-13-lcewc03_090713.pdf.\n",
            "2022-12-27 06:16:16,421 [MainThread  ] [INFO ]  Retrieving https://lci.ly.gov.tw/LyLCEW/agendarec1/02/pdf/09/07/14/LCEWC03_090714.pdf to /tmp/lylcew-agendarec1-02-pdf-09-07-14-lcewc03_090714.pdf.\n",
            "INFO:tika.tika:Retrieving https://lci.ly.gov.tw/LyLCEW/agendarec1/02/pdf/09/07/14/LCEWC03_090714.pdf to /tmp/lylcew-agendarec1-02-pdf-09-07-14-lcewc03_090714.pdf.\n",
            "2022-12-27 06:16:18,798 [MainThread  ] [INFO ]  Retrieving https://lci.ly.gov.tw/LyLCEW/agendarec1/02/pdf/09/07/15/LCEWC03_090715.pdf to /tmp/lylcew-agendarec1-02-pdf-09-07-15-lcewc03_090715.pdf.\n",
            "INFO:tika.tika:Retrieving https://lci.ly.gov.tw/LyLCEW/agendarec1/02/pdf/09/07/15/LCEWC03_090715.pdf to /tmp/lylcew-agendarec1-02-pdf-09-07-15-lcewc03_090715.pdf.\n",
            "2022-12-27 06:16:20,971 [MainThread  ] [INFO ]  Retrieving https://lci.ly.gov.tw/LyLCEW/agendarec1/02/pdf/09/07/16/LCEWC03_090716.pdf to /tmp/lylcew-agendarec1-02-pdf-09-07-16-lcewc03_090716.pdf.\n",
            "INFO:tika.tika:Retrieving https://lci.ly.gov.tw/LyLCEW/agendarec1/02/pdf/09/07/16/LCEWC03_090716.pdf to /tmp/lylcew-agendarec1-02-pdf-09-07-16-lcewc03_090716.pdf.\n",
            "2022-12-27 06:16:23,760 [MainThread  ] [INFO ]  Retrieving https://lci.ly.gov.tw/LyLCEW/agendarec1/02/pdf/09/08/02/LCEWC03_090802.pdf to /tmp/lylcew-agendarec1-02-pdf-09-08-02-lcewc03_090802.pdf.\n",
            "INFO:tika.tika:Retrieving https://lci.ly.gov.tw/LyLCEW/agendarec1/02/pdf/09/08/02/LCEWC03_090802.pdf to /tmp/lylcew-agendarec1-02-pdf-09-08-02-lcewc03_090802.pdf.\n",
            "2022-12-27 06:16:25,364 [MainThread  ] [INFO ]  Retrieving https://lci.ly.gov.tw/LyLCEW/agendarec1/02/pdf/09/08/03/LCEWC03_090803.pdf to /tmp/lylcew-agendarec1-02-pdf-09-08-03-lcewc03_090803.pdf.\n",
            "INFO:tika.tika:Retrieving https://lci.ly.gov.tw/LyLCEW/agendarec1/02/pdf/09/08/03/LCEWC03_090803.pdf to /tmp/lylcew-agendarec1-02-pdf-09-08-03-lcewc03_090803.pdf.\n",
            "2022-12-27 06:16:32,927 [MainThread  ] [INFO ]  Retrieving https://lci.ly.gov.tw/LyLCEW/agendarec1/02/pdf/09/08/04/LCEWC03_090804.pdf to /tmp/lylcew-agendarec1-02-pdf-09-08-04-lcewc03_090804.pdf.\n",
            "INFO:tika.tika:Retrieving https://lci.ly.gov.tw/LyLCEW/agendarec1/02/pdf/09/08/04/LCEWC03_090804.pdf to /tmp/lylcew-agendarec1-02-pdf-09-08-04-lcewc03_090804.pdf.\n",
            "2022-12-27 06:16:40,374 [MainThread  ] [INFO ]  Retrieving https://lci.ly.gov.tw/LyLCEW/agendarec1/02/pdf/09/08/05/LCEWC03_090805.pdf to /tmp/lylcew-agendarec1-02-pdf-09-08-05-lcewc03_090805.pdf.\n",
            "INFO:tika.tika:Retrieving https://lci.ly.gov.tw/LyLCEW/agendarec1/02/pdf/09/08/05/LCEWC03_090805.pdf to /tmp/lylcew-agendarec1-02-pdf-09-08-05-lcewc03_090805.pdf.\n",
            "2022-12-27 06:16:48,309 [MainThread  ] [INFO ]  Retrieving https://lci.ly.gov.tw/LyLCEW/agendarec1/02/pdf/09/08/06/LCEWC03_090806.pdf to /tmp/lylcew-agendarec1-02-pdf-09-08-06-lcewc03_090806.pdf.\n",
            "INFO:tika.tika:Retrieving https://lci.ly.gov.tw/LyLCEW/agendarec1/02/pdf/09/08/06/LCEWC03_090806.pdf to /tmp/lylcew-agendarec1-02-pdf-09-08-06-lcewc03_090806.pdf.\n",
            "2022-12-27 06:16:50,918 [MainThread  ] [INFO ]  Retrieving https://lci.ly.gov.tw/LyLCEW/agendarec1/02/pdf/09/08/07/LCEWC03_090807.pdf to /tmp/lylcew-agendarec1-02-pdf-09-08-07-lcewc03_090807.pdf.\n",
            "INFO:tika.tika:Retrieving https://lci.ly.gov.tw/LyLCEW/agendarec1/02/pdf/09/08/07/LCEWC03_090807.pdf to /tmp/lylcew-agendarec1-02-pdf-09-08-07-lcewc03_090807.pdf.\n",
            "2022-12-27 06:16:53,132 [MainThread  ] [INFO ]  Retrieving https://lci.ly.gov.tw/LyLCEW/agendarec1/02/pdf/09/08/08/LCEWC03_090808.pdf to /tmp/lylcew-agendarec1-02-pdf-09-08-08-lcewc03_090808.pdf.\n",
            "INFO:tika.tika:Retrieving https://lci.ly.gov.tw/LyLCEW/agendarec1/02/pdf/09/08/08/LCEWC03_090808.pdf to /tmp/lylcew-agendarec1-02-pdf-09-08-08-lcewc03_090808.pdf.\n",
            "2022-12-27 06:16:55,399 [MainThread  ] [INFO ]  Retrieving https://lci.ly.gov.tw/LyLCEW/agendarec1/02/pdf/09/08/10/LCEWC03_090810.pdf to /tmp/lylcew-agendarec1-02-pdf-09-08-10-lcewc03_090810.pdf.\n",
            "INFO:tika.tika:Retrieving https://lci.ly.gov.tw/LyLCEW/agendarec1/02/pdf/09/08/10/LCEWC03_090810.pdf to /tmp/lylcew-agendarec1-02-pdf-09-08-10-lcewc03_090810.pdf.\n",
            "2022-12-27 06:16:58,280 [MainThread  ] [INFO ]  Retrieving https://lci.ly.gov.tw/LyLCEW/agendarec1/02/pdf/09/08/11/LCEWC03_090811.pdf to /tmp/lylcew-agendarec1-02-pdf-09-08-11-lcewc03_090811.pdf.\n",
            "INFO:tika.tika:Retrieving https://lci.ly.gov.tw/LyLCEW/agendarec1/02/pdf/09/08/11/LCEWC03_090811.pdf to /tmp/lylcew-agendarec1-02-pdf-09-08-11-lcewc03_090811.pdf.\n",
            "2022-12-27 06:17:00,348 [MainThread  ] [INFO ]  Retrieving https://lci.ly.gov.tw/LyLCEW/agendarec1/02/pdf/09/08/12/LCEWC03_090812.pdf to /tmp/lylcew-agendarec1-02-pdf-09-08-12-lcewc03_090812.pdf.\n",
            "INFO:tika.tika:Retrieving https://lci.ly.gov.tw/LyLCEW/agendarec1/02/pdf/09/08/12/LCEWC03_090812.pdf to /tmp/lylcew-agendarec1-02-pdf-09-08-12-lcewc03_090812.pdf.\n",
            "2022-12-27 06:17:02,422 [MainThread  ] [INFO ]  Retrieving https://lci.ly.gov.tw/LyLCEW/agendarec1/02/pdf/09/08/13/LCEWC03_090813.pdf to /tmp/lylcew-agendarec1-02-pdf-09-08-13-lcewc03_090813.pdf.\n",
            "INFO:tika.tika:Retrieving https://lci.ly.gov.tw/LyLCEW/agendarec1/02/pdf/09/08/13/LCEWC03_090813.pdf to /tmp/lylcew-agendarec1-02-pdf-09-08-13-lcewc03_090813.pdf.\n",
            "2022-12-27 06:17:05,004 [MainThread  ] [INFO ]  Retrieving https://lci.ly.gov.tw/LyLCEW/agendarec1/02/pdf/09/08/15/LCEWC03_090815.pdf to /tmp/lylcew-agendarec1-02-pdf-09-08-15-lcewc03_090815.pdf.\n",
            "INFO:tika.tika:Retrieving https://lci.ly.gov.tw/LyLCEW/agendarec1/02/pdf/09/08/15/LCEWC03_090815.pdf to /tmp/lylcew-agendarec1-02-pdf-09-08-15-lcewc03_090815.pdf.\n",
            "2022-12-27 06:17:07,216 [MainThread  ] [INFO ]  Retrieving https://lci.ly.gov.tw/LyLCEW/agendarec1/02/pdf/10/01/01/LCEWC03_100101.pdf to /tmp/lylcew-agendarec1-02-pdf-10-01-01-lcewc03_100101.pdf.\n",
            "INFO:tika.tika:Retrieving https://lci.ly.gov.tw/LyLCEW/agendarec1/02/pdf/10/01/01/LCEWC03_100101.pdf to /tmp/lylcew-agendarec1-02-pdf-10-01-01-lcewc03_100101.pdf.\n",
            "2022-12-27 06:17:09,412 [MainThread  ] [INFO ]  Retrieving https://lci.ly.gov.tw/LyLCEW/agendarec1/02/pdf/10/01/02/LCEWC03_100102.pdf to /tmp/lylcew-agendarec1-02-pdf-10-01-02-lcewc03_100102.pdf.\n",
            "INFO:tika.tika:Retrieving https://lci.ly.gov.tw/LyLCEW/agendarec1/02/pdf/10/01/02/LCEWC03_100102.pdf to /tmp/lylcew-agendarec1-02-pdf-10-01-02-lcewc03_100102.pdf.\n",
            "2022-12-27 06:17:11,410 [MainThread  ] [INFO ]  Retrieving https://lci.ly.gov.tw/LyLCEW/agendarec1/02/pdf/10/01/03/LCEWC03_100103.pdf to /tmp/lylcew-agendarec1-02-pdf-10-01-03-lcewc03_100103.pdf.\n",
            "INFO:tika.tika:Retrieving https://lci.ly.gov.tw/LyLCEW/agendarec1/02/pdf/10/01/03/LCEWC03_100103.pdf to /tmp/lylcew-agendarec1-02-pdf-10-01-03-lcewc03_100103.pdf.\n",
            "2022-12-27 06:17:13,605 [MainThread  ] [INFO ]  Retrieving https://lci.ly.gov.tw/LyLCEW/agendarec1/02/pdf/10/01/04/LCEWC03_100104.pdf to /tmp/lylcew-agendarec1-02-pdf-10-01-04-lcewc03_100104.pdf.\n",
            "INFO:tika.tika:Retrieving https://lci.ly.gov.tw/LyLCEW/agendarec1/02/pdf/10/01/04/LCEWC03_100104.pdf to /tmp/lylcew-agendarec1-02-pdf-10-01-04-lcewc03_100104.pdf.\n",
            "2022-12-27 06:17:15,755 [MainThread  ] [INFO ]  Retrieving https://lci.ly.gov.tw/LyLCEW/agendarec1/02/pdf/10/01/05/LCEWC03_100105.pdf to /tmp/lylcew-agendarec1-02-pdf-10-01-05-lcewc03_100105.pdf.\n",
            "INFO:tika.tika:Retrieving https://lci.ly.gov.tw/LyLCEW/agendarec1/02/pdf/10/01/05/LCEWC03_100105.pdf to /tmp/lylcew-agendarec1-02-pdf-10-01-05-lcewc03_100105.pdf.\n",
            "2022-12-27 06:17:17,806 [MainThread  ] [INFO ]  Retrieving https://lci.ly.gov.tw/LyLCEW/agendarec1/02/pdf/10/01/06/LCEWC03_100106.pdf to /tmp/lylcew-agendarec1-02-pdf-10-01-06-lcewc03_100106.pdf.\n",
            "INFO:tika.tika:Retrieving https://lci.ly.gov.tw/LyLCEW/agendarec1/02/pdf/10/01/06/LCEWC03_100106.pdf to /tmp/lylcew-agendarec1-02-pdf-10-01-06-lcewc03_100106.pdf.\n",
            "2022-12-27 06:17:19,842 [MainThread  ] [INFO ]  Retrieving https://lci.ly.gov.tw/LyLCEW/agendarec1/02/pdf/10/01/07/LCEWC03_100107.pdf to /tmp/lylcew-agendarec1-02-pdf-10-01-07-lcewc03_100107.pdf.\n",
            "INFO:tika.tika:Retrieving https://lci.ly.gov.tw/LyLCEW/agendarec1/02/pdf/10/01/07/LCEWC03_100107.pdf to /tmp/lylcew-agendarec1-02-pdf-10-01-07-lcewc03_100107.pdf.\n",
            "2022-12-27 06:17:22,499 [MainThread  ] [INFO ]  Retrieving https://lci.ly.gov.tw/LyLCEW/agendarec1/02/pdf/10/01/08/LCEWC03_100108.pdf to /tmp/lylcew-agendarec1-02-pdf-10-01-08-lcewc03_100108.pdf.\n",
            "INFO:tika.tika:Retrieving https://lci.ly.gov.tw/LyLCEW/agendarec1/02/pdf/10/01/08/LCEWC03_100108.pdf to /tmp/lylcew-agendarec1-02-pdf-10-01-08-lcewc03_100108.pdf.\n",
            "2022-12-27 06:17:24,233 [MainThread  ] [INFO ]  Retrieving https://lci.ly.gov.tw/LyLCEW/agendarec1/02/pdf/10/01/09/LCEWC03_100109.pdf to /tmp/lylcew-agendarec1-02-pdf-10-01-09-lcewc03_100109.pdf.\n",
            "INFO:tika.tika:Retrieving https://lci.ly.gov.tw/LyLCEW/agendarec1/02/pdf/10/01/09/LCEWC03_100109.pdf to /tmp/lylcew-agendarec1-02-pdf-10-01-09-lcewc03_100109.pdf.\n",
            "2022-12-27 06:17:26,559 [MainThread  ] [INFO ]  Retrieving https://lci.ly.gov.tw/LyLCEW/agendarec1/02/pdf/10/01/10/LCEWC03_100110.pdf to /tmp/lylcew-agendarec1-02-pdf-10-01-10-lcewc03_100110.pdf.\n",
            "INFO:tika.tika:Retrieving https://lci.ly.gov.tw/LyLCEW/agendarec1/02/pdf/10/01/10/LCEWC03_100110.pdf to /tmp/lylcew-agendarec1-02-pdf-10-01-10-lcewc03_100110.pdf.\n",
            "2022-12-27 06:17:28,534 [MainThread  ] [INFO ]  Retrieving https://lci.ly.gov.tw/LyLCEW/agendarec1/02/pdf/10/01/11/LCEWC03_100111.pdf to /tmp/lylcew-agendarec1-02-pdf-10-01-11-lcewc03_100111.pdf.\n",
            "INFO:tika.tika:Retrieving https://lci.ly.gov.tw/LyLCEW/agendarec1/02/pdf/10/01/11/LCEWC03_100111.pdf to /tmp/lylcew-agendarec1-02-pdf-10-01-11-lcewc03_100111.pdf.\n",
            "2022-12-27 06:17:30,568 [MainThread  ] [INFO ]  Retrieving https://lci.ly.gov.tw/LyLCEW/agendarec1/02/pdf/10/01/12/LCEWC03_100112.pdf to /tmp/lylcew-agendarec1-02-pdf-10-01-12-lcewc03_100112.pdf.\n",
            "INFO:tika.tika:Retrieving https://lci.ly.gov.tw/LyLCEW/agendarec1/02/pdf/10/01/12/LCEWC03_100112.pdf to /tmp/lylcew-agendarec1-02-pdf-10-01-12-lcewc03_100112.pdf.\n",
            "2022-12-27 06:17:32,760 [MainThread  ] [INFO ]  Retrieving https://lci.ly.gov.tw/LyLCEW/agendarec1/02/pdf/10/01/13/LCEWC03_100113.pdf to /tmp/lylcew-agendarec1-02-pdf-10-01-13-lcewc03_100113.pdf.\n",
            "INFO:tika.tika:Retrieving https://lci.ly.gov.tw/LyLCEW/agendarec1/02/pdf/10/01/13/LCEWC03_100113.pdf to /tmp/lylcew-agendarec1-02-pdf-10-01-13-lcewc03_100113.pdf.\n",
            "2022-12-27 06:17:35,022 [MainThread  ] [INFO ]  Retrieving https://lci.ly.gov.tw/LyLCEW/agendarec1/02/pdf/10/01/14/LCEWC03_100114.pdf to /tmp/lylcew-agendarec1-02-pdf-10-01-14-lcewc03_100114.pdf.\n",
            "INFO:tika.tika:Retrieving https://lci.ly.gov.tw/LyLCEW/agendarec1/02/pdf/10/01/14/LCEWC03_100114.pdf to /tmp/lylcew-agendarec1-02-pdf-10-01-14-lcewc03_100114.pdf.\n",
            "2022-12-27 06:17:36,863 [MainThread  ] [INFO ]  Retrieving https://lci.ly.gov.tw/LyLCEW/agendarec1/02/pdf/10/01/15/LCEWC03_100115.pdf to /tmp/lylcew-agendarec1-02-pdf-10-01-15-lcewc03_100115.pdf.\n",
            "INFO:tika.tika:Retrieving https://lci.ly.gov.tw/LyLCEW/agendarec1/02/pdf/10/01/15/LCEWC03_100115.pdf to /tmp/lylcew-agendarec1-02-pdf-10-01-15-lcewc03_100115.pdf.\n",
            "2022-12-27 06:17:38,807 [MainThread  ] [INFO ]  Retrieving https://lci.ly.gov.tw/LyLCEW/agendarec1/02/pdf/10/02/01/LCEWC03_100201.pdf to /tmp/lylcew-agendarec1-02-pdf-10-02-01-lcewc03_100201.pdf.\n",
            "INFO:tika.tika:Retrieving https://lci.ly.gov.tw/LyLCEW/agendarec1/02/pdf/10/02/01/LCEWC03_100201.pdf to /tmp/lylcew-agendarec1-02-pdf-10-02-01-lcewc03_100201.pdf.\n",
            "2022-12-27 06:17:40,908 [MainThread  ] [INFO ]  Retrieving https://lci.ly.gov.tw/LyLCEW/agendarec1/02/pdf/10/02/02/LCEWC03_100202.pdf to /tmp/lylcew-agendarec1-02-pdf-10-02-02-lcewc03_100202.pdf.\n",
            "INFO:tika.tika:Retrieving https://lci.ly.gov.tw/LyLCEW/agendarec1/02/pdf/10/02/02/LCEWC03_100202.pdf to /tmp/lylcew-agendarec1-02-pdf-10-02-02-lcewc03_100202.pdf.\n",
            "2022-12-27 06:17:48,447 [MainThread  ] [INFO ]  Retrieving https://lci.ly.gov.tw/LyLCEW/agendarec1/02/pdf/10/02/03/LCEWC03_100203.pdf to /tmp/lylcew-agendarec1-02-pdf-10-02-03-lcewc03_100203.pdf.\n",
            "INFO:tika.tika:Retrieving https://lci.ly.gov.tw/LyLCEW/agendarec1/02/pdf/10/02/03/LCEWC03_100203.pdf to /tmp/lylcew-agendarec1-02-pdf-10-02-03-lcewc03_100203.pdf.\n",
            "2022-12-27 06:17:50,586 [MainThread  ] [INFO ]  Retrieving https://lci.ly.gov.tw/LyLCEW/agendarec1/02/pdf/10/02/04/LCEWC03_100204.pdf to /tmp/lylcew-agendarec1-02-pdf-10-02-04-lcewc03_100204.pdf.\n",
            "INFO:tika.tika:Retrieving https://lci.ly.gov.tw/LyLCEW/agendarec1/02/pdf/10/02/04/LCEWC03_100204.pdf to /tmp/lylcew-agendarec1-02-pdf-10-02-04-lcewc03_100204.pdf.\n",
            "2022-12-27 06:17:53,126 [MainThread  ] [INFO ]  Retrieving https://lci.ly.gov.tw/LyLCEW/agendarec1/02/pdf/10/02/06/LCEWC03_100206.pdf to /tmp/lylcew-agendarec1-02-pdf-10-02-06-lcewc03_100206.pdf.\n",
            "INFO:tika.tika:Retrieving https://lci.ly.gov.tw/LyLCEW/agendarec1/02/pdf/10/02/06/LCEWC03_100206.pdf to /tmp/lylcew-agendarec1-02-pdf-10-02-06-lcewc03_100206.pdf.\n",
            "2022-12-27 06:17:55,693 [MainThread  ] [INFO ]  Retrieving https://lci.ly.gov.tw/LyLCEW/agendarec1/02/pdf/10/02/07/LCEWC03_100207.pdf to /tmp/lylcew-agendarec1-02-pdf-10-02-07-lcewc03_100207.pdf.\n",
            "INFO:tika.tika:Retrieving https://lci.ly.gov.tw/LyLCEW/agendarec1/02/pdf/10/02/07/LCEWC03_100207.pdf to /tmp/lylcew-agendarec1-02-pdf-10-02-07-lcewc03_100207.pdf.\n",
            "2022-12-27 06:17:57,737 [MainThread  ] [INFO ]  Retrieving https://lci.ly.gov.tw/LyLCEW/agendarec1/02/pdf/10/02/08/LCEWC03_100208.pdf to /tmp/lylcew-agendarec1-02-pdf-10-02-08-lcewc03_100208.pdf.\n",
            "INFO:tika.tika:Retrieving https://lci.ly.gov.tw/LyLCEW/agendarec1/02/pdf/10/02/08/LCEWC03_100208.pdf to /tmp/lylcew-agendarec1-02-pdf-10-02-08-lcewc03_100208.pdf.\n",
            "2022-12-27 06:17:59,591 [MainThread  ] [INFO ]  Retrieving https://lci.ly.gov.tw/LyLCEW/agendarec1/02/pdf/10/02/09/LCEWC03_100209.pdf to /tmp/lylcew-agendarec1-02-pdf-10-02-09-lcewc03_100209.pdf.\n",
            "INFO:tika.tika:Retrieving https://lci.ly.gov.tw/LyLCEW/agendarec1/02/pdf/10/02/09/LCEWC03_100209.pdf to /tmp/lylcew-agendarec1-02-pdf-10-02-09-lcewc03_100209.pdf.\n",
            "2022-12-27 06:18:01,942 [MainThread  ] [INFO ]  Retrieving https://lci.ly.gov.tw/LyLCEW/agendarec1/02/pdf/10/02/10/LCEWC03_100210.pdf to /tmp/lylcew-agendarec1-02-pdf-10-02-10-lcewc03_100210.pdf.\n",
            "INFO:tika.tika:Retrieving https://lci.ly.gov.tw/LyLCEW/agendarec1/02/pdf/10/02/10/LCEWC03_100210.pdf to /tmp/lylcew-agendarec1-02-pdf-10-02-10-lcewc03_100210.pdf.\n",
            "2022-12-27 06:18:04,064 [MainThread  ] [INFO ]  Retrieving https://lci.ly.gov.tw/LyLCEW/agendarec1/02/pdf/10/02/11/LCEWC03_100211.pdf to /tmp/lylcew-agendarec1-02-pdf-10-02-11-lcewc03_100211.pdf.\n",
            "INFO:tika.tika:Retrieving https://lci.ly.gov.tw/LyLCEW/agendarec1/02/pdf/10/02/11/LCEWC03_100211.pdf to /tmp/lylcew-agendarec1-02-pdf-10-02-11-lcewc03_100211.pdf.\n",
            "2022-12-27 06:18:06,239 [MainThread  ] [INFO ]  Retrieving https://lci.ly.gov.tw/LyLCEW/agendarec1/02/pdf/10/03/06/LCEWC03_100306.pdf to /tmp/lylcew-agendarec1-02-pdf-10-03-06-lcewc03_100306.pdf.\n",
            "INFO:tika.tika:Retrieving https://lci.ly.gov.tw/LyLCEW/agendarec1/02/pdf/10/03/06/LCEWC03_100306.pdf to /tmp/lylcew-agendarec1-02-pdf-10-03-06-lcewc03_100306.pdf.\n"
          ]
        },
        {
          "output_type": "error",
          "ename": "HTTPError",
          "evalue": "ignored",
          "traceback": [
            "\u001b[0;31m---------------------------------------------------------------------------\u001b[0m",
            "\u001b[0;31mHTTPError\u001b[0m                                 Traceback (most recent call last)",
            "\u001b[0;32m/usr/local/lib/python3.8/dist-packages/tika/tika.py\u001b[0m in \u001b[0;36mgetRemoteFile\u001b[0;34m(urlOrPath, destPath)\u001b[0m\n\u001b[1;32m    771\u001b[0m         \u001b[0;32mtry\u001b[0m\u001b[0;34m:\u001b[0m\u001b[0;34m\u001b[0m\u001b[0;34m\u001b[0m\u001b[0m\n\u001b[0;32m--> 772\u001b[0;31m             \u001b[0murlretrieve\u001b[0m\u001b[0;34m(\u001b[0m\u001b[0murlOrPath\u001b[0m\u001b[0;34m,\u001b[0m \u001b[0mdestPath\u001b[0m\u001b[0;34m)\u001b[0m\u001b[0;34m\u001b[0m\u001b[0;34m\u001b[0m\u001b[0m\n\u001b[0m\u001b[1;32m    773\u001b[0m         \u001b[0;32mexcept\u001b[0m \u001b[0mIOError\u001b[0m\u001b[0;34m:\u001b[0m\u001b[0;34m\u001b[0m\u001b[0;34m\u001b[0m\u001b[0m\n",
            "\u001b[0;32m/usr/lib/python3.8/urllib/request.py\u001b[0m in \u001b[0;36murlretrieve\u001b[0;34m(url, filename, reporthook, data)\u001b[0m\n\u001b[1;32m    246\u001b[0m \u001b[0;34m\u001b[0m\u001b[0m\n\u001b[0;32m--> 247\u001b[0;31m     \u001b[0;32mwith\u001b[0m \u001b[0mcontextlib\u001b[0m\u001b[0;34m.\u001b[0m\u001b[0mclosing\u001b[0m\u001b[0;34m(\u001b[0m\u001b[0murlopen\u001b[0m\u001b[0;34m(\u001b[0m\u001b[0murl\u001b[0m\u001b[0;34m,\u001b[0m \u001b[0mdata\u001b[0m\u001b[0;34m)\u001b[0m\u001b[0;34m)\u001b[0m \u001b[0;32mas\u001b[0m \u001b[0mfp\u001b[0m\u001b[0;34m:\u001b[0m\u001b[0;34m\u001b[0m\u001b[0;34m\u001b[0m\u001b[0m\n\u001b[0m\u001b[1;32m    248\u001b[0m         \u001b[0mheaders\u001b[0m \u001b[0;34m=\u001b[0m \u001b[0mfp\u001b[0m\u001b[0;34m.\u001b[0m\u001b[0minfo\u001b[0m\u001b[0;34m(\u001b[0m\u001b[0;34m)\u001b[0m\u001b[0;34m\u001b[0m\u001b[0;34m\u001b[0m\u001b[0m\n",
            "\u001b[0;32m/usr/lib/python3.8/urllib/request.py\u001b[0m in \u001b[0;36murlopen\u001b[0;34m(url, data, timeout, cafile, capath, cadefault, context)\u001b[0m\n\u001b[1;32m    221\u001b[0m         \u001b[0mopener\u001b[0m \u001b[0;34m=\u001b[0m \u001b[0m_opener\u001b[0m\u001b[0;34m\u001b[0m\u001b[0;34m\u001b[0m\u001b[0m\n\u001b[0;32m--> 222\u001b[0;31m     \u001b[0;32mreturn\u001b[0m \u001b[0mopener\u001b[0m\u001b[0;34m.\u001b[0m\u001b[0mopen\u001b[0m\u001b[0;34m(\u001b[0m\u001b[0murl\u001b[0m\u001b[0;34m,\u001b[0m \u001b[0mdata\u001b[0m\u001b[0;34m,\u001b[0m \u001b[0mtimeout\u001b[0m\u001b[0;34m)\u001b[0m\u001b[0;34m\u001b[0m\u001b[0;34m\u001b[0m\u001b[0m\n\u001b[0m\u001b[1;32m    223\u001b[0m \u001b[0;34m\u001b[0m\u001b[0m\n",
            "\u001b[0;32m/usr/lib/python3.8/urllib/request.py\u001b[0m in \u001b[0;36mopen\u001b[0;34m(self, fullurl, data, timeout)\u001b[0m\n\u001b[1;32m    530\u001b[0m             \u001b[0mmeth\u001b[0m \u001b[0;34m=\u001b[0m \u001b[0mgetattr\u001b[0m\u001b[0;34m(\u001b[0m\u001b[0mprocessor\u001b[0m\u001b[0;34m,\u001b[0m \u001b[0mmeth_name\u001b[0m\u001b[0;34m)\u001b[0m\u001b[0;34m\u001b[0m\u001b[0;34m\u001b[0m\u001b[0m\n\u001b[0;32m--> 531\u001b[0;31m             \u001b[0mresponse\u001b[0m \u001b[0;34m=\u001b[0m \u001b[0mmeth\u001b[0m\u001b[0;34m(\u001b[0m\u001b[0mreq\u001b[0m\u001b[0;34m,\u001b[0m \u001b[0mresponse\u001b[0m\u001b[0;34m)\u001b[0m\u001b[0;34m\u001b[0m\u001b[0;34m\u001b[0m\u001b[0m\n\u001b[0m\u001b[1;32m    532\u001b[0m \u001b[0;34m\u001b[0m\u001b[0m\n",
            "\u001b[0;32m/usr/lib/python3.8/urllib/request.py\u001b[0m in \u001b[0;36mhttp_response\u001b[0;34m(self, request, response)\u001b[0m\n\u001b[1;32m    639\u001b[0m         \u001b[0;32mif\u001b[0m \u001b[0;32mnot\u001b[0m \u001b[0;34m(\u001b[0m\u001b[0;36m200\u001b[0m \u001b[0;34m<=\u001b[0m \u001b[0mcode\u001b[0m \u001b[0;34m<\u001b[0m \u001b[0;36m300\u001b[0m\u001b[0;34m)\u001b[0m\u001b[0;34m:\u001b[0m\u001b[0;34m\u001b[0m\u001b[0;34m\u001b[0m\u001b[0m\n\u001b[0;32m--> 640\u001b[0;31m             response = self.parent.error(\n\u001b[0m\u001b[1;32m    641\u001b[0m                 'http', request, response, code, msg, hdrs)\n",
            "\u001b[0;32m/usr/lib/python3.8/urllib/request.py\u001b[0m in \u001b[0;36merror\u001b[0;34m(self, proto, *args)\u001b[0m\n\u001b[1;32m    568\u001b[0m             \u001b[0margs\u001b[0m \u001b[0;34m=\u001b[0m \u001b[0;34m(\u001b[0m\u001b[0mdict\u001b[0m\u001b[0;34m,\u001b[0m \u001b[0;34m'default'\u001b[0m\u001b[0;34m,\u001b[0m \u001b[0;34m'http_error_default'\u001b[0m\u001b[0;34m)\u001b[0m \u001b[0;34m+\u001b[0m \u001b[0morig_args\u001b[0m\u001b[0;34m\u001b[0m\u001b[0;34m\u001b[0m\u001b[0m\n\u001b[0;32m--> 569\u001b[0;31m             \u001b[0;32mreturn\u001b[0m \u001b[0mself\u001b[0m\u001b[0;34m.\u001b[0m\u001b[0m_call_chain\u001b[0m\u001b[0;34m(\u001b[0m\u001b[0;34m*\u001b[0m\u001b[0margs\u001b[0m\u001b[0;34m)\u001b[0m\u001b[0;34m\u001b[0m\u001b[0;34m\u001b[0m\u001b[0m\n\u001b[0m\u001b[1;32m    570\u001b[0m \u001b[0;34m\u001b[0m\u001b[0m\n",
            "\u001b[0;32m/usr/lib/python3.8/urllib/request.py\u001b[0m in \u001b[0;36m_call_chain\u001b[0;34m(self, chain, kind, meth_name, *args)\u001b[0m\n\u001b[1;32m    501\u001b[0m             \u001b[0mfunc\u001b[0m \u001b[0;34m=\u001b[0m \u001b[0mgetattr\u001b[0m\u001b[0;34m(\u001b[0m\u001b[0mhandler\u001b[0m\u001b[0;34m,\u001b[0m \u001b[0mmeth_name\u001b[0m\u001b[0;34m)\u001b[0m\u001b[0;34m\u001b[0m\u001b[0;34m\u001b[0m\u001b[0m\n\u001b[0;32m--> 502\u001b[0;31m             \u001b[0mresult\u001b[0m \u001b[0;34m=\u001b[0m \u001b[0mfunc\u001b[0m\u001b[0;34m(\u001b[0m\u001b[0;34m*\u001b[0m\u001b[0margs\u001b[0m\u001b[0;34m)\u001b[0m\u001b[0;34m\u001b[0m\u001b[0;34m\u001b[0m\u001b[0m\n\u001b[0m\u001b[1;32m    503\u001b[0m             \u001b[0;32mif\u001b[0m \u001b[0mresult\u001b[0m \u001b[0;32mis\u001b[0m \u001b[0;32mnot\u001b[0m \u001b[0;32mNone\u001b[0m\u001b[0;34m:\u001b[0m\u001b[0;34m\u001b[0m\u001b[0;34m\u001b[0m\u001b[0m\n",
            "\u001b[0;32m/usr/lib/python3.8/urllib/request.py\u001b[0m in \u001b[0;36mhttp_error_default\u001b[0;34m(self, req, fp, code, msg, hdrs)\u001b[0m\n\u001b[1;32m    648\u001b[0m     \u001b[0;32mdef\u001b[0m \u001b[0mhttp_error_default\u001b[0m\u001b[0;34m(\u001b[0m\u001b[0mself\u001b[0m\u001b[0;34m,\u001b[0m \u001b[0mreq\u001b[0m\u001b[0;34m,\u001b[0m \u001b[0mfp\u001b[0m\u001b[0;34m,\u001b[0m \u001b[0mcode\u001b[0m\u001b[0;34m,\u001b[0m \u001b[0mmsg\u001b[0m\u001b[0;34m,\u001b[0m \u001b[0mhdrs\u001b[0m\u001b[0;34m)\u001b[0m\u001b[0;34m:\u001b[0m\u001b[0;34m\u001b[0m\u001b[0;34m\u001b[0m\u001b[0m\n\u001b[0;32m--> 649\u001b[0;31m         \u001b[0;32mraise\u001b[0m \u001b[0mHTTPError\u001b[0m\u001b[0;34m(\u001b[0m\u001b[0mreq\u001b[0m\u001b[0;34m.\u001b[0m\u001b[0mfull_url\u001b[0m\u001b[0;34m,\u001b[0m \u001b[0mcode\u001b[0m\u001b[0;34m,\u001b[0m \u001b[0mmsg\u001b[0m\u001b[0;34m,\u001b[0m \u001b[0mhdrs\u001b[0m\u001b[0;34m,\u001b[0m \u001b[0mfp\u001b[0m\u001b[0;34m)\u001b[0m\u001b[0;34m\u001b[0m\u001b[0;34m\u001b[0m\u001b[0m\n\u001b[0m\u001b[1;32m    650\u001b[0m \u001b[0;34m\u001b[0m\u001b[0m\n",
            "\u001b[0;31mHTTPError\u001b[0m: HTTP Error 404: ",
            "\nDuring handling of the above exception, another exception occurred:\n",
            "\u001b[0;31mHTTPError\u001b[0m                                 Traceback (most recent call last)",
            "\u001b[0;32m<ipython-input-26-055ac40567f9>\u001b[0m in \u001b[0;36m<module>\u001b[0;34m\u001b[0m\n\u001b[1;32m      8\u001b[0m   \u001b[0mday\u001b[0m\u001b[0;34m=\u001b[0m\u001b[0md\u001b[0m\u001b[0;34m[\u001b[0m\u001b[0;36m4\u001b[0m\u001b[0;34m:\u001b[0m\u001b[0;34m]\u001b[0m\u001b[0;34m\u001b[0m\u001b[0;34m\u001b[0m\u001b[0m\n\u001b[1;32m      9\u001b[0m   \u001b[0murl\u001b[0m \u001b[0;34m=\u001b[0m \u001b[0;34m'https://lci.ly.gov.tw/LyLCEW/agendarec1/02/pdf/'\u001b[0m\u001b[0;34m+\u001b[0m\u001b[0myear\u001b[0m\u001b[0;34m+\u001b[0m\u001b[0;34m'/'\u001b[0m\u001b[0;34m+\u001b[0m\u001b[0mmonth\u001b[0m\u001b[0;34m+\u001b[0m\u001b[0;34m'/'\u001b[0m\u001b[0;34m+\u001b[0m\u001b[0mday\u001b[0m\u001b[0;34m+\u001b[0m\u001b[0;34m'/LCEWC03_'\u001b[0m\u001b[0;34m+\u001b[0m\u001b[0md\u001b[0m\u001b[0;34m+\u001b[0m\u001b[0;34m'.pdf'\u001b[0m\u001b[0;34m\u001b[0m\u001b[0;34m\u001b[0m\u001b[0m\n\u001b[0;32m---> 10\u001b[0;31m   \u001b[0mraw\u001b[0m\u001b[0;34m=\u001b[0m \u001b[0mparser\u001b[0m\u001b[0;34m.\u001b[0m\u001b[0mfrom_file\u001b[0m\u001b[0;34m(\u001b[0m\u001b[0murl\u001b[0m\u001b[0;34m)\u001b[0m  \u001b[0;31m# 딕셔너리가 생성된다.\u001b[0m\u001b[0;34m\u001b[0m\u001b[0;34m\u001b[0m\u001b[0m\n\u001b[0m\u001b[1;32m     11\u001b[0m   \u001b[0mtext\u001b[0m\u001b[0;34m=\u001b[0m\u001b[0mraw\u001b[0m\u001b[0;34m[\u001b[0m\u001b[0;34m'content'\u001b[0m\u001b[0;34m]\u001b[0m          \u001b[0;31m# key 'content'의 value를 불러와서 text에 담는다.\u001b[0m\u001b[0;34m\u001b[0m\u001b[0;34m\u001b[0m\u001b[0m\n\u001b[1;32m     12\u001b[0m   \u001b[0mt01\u001b[0m\u001b[0;34m=\u001b[0m\u001b[0mtext\u001b[0m\u001b[0;34m.\u001b[0m\u001b[0msplit\u001b[0m\u001b[0;34m(\u001b[0m\u001b[0;34m'質詢事項'\u001b[0m\u001b[0;34m)\u001b[0m\u001b[0;34m[\u001b[0m\u001b[0;36m1\u001b[0m\u001b[0;34m]\u001b[0m\u001b[0;34m\u001b[0m\u001b[0;34m\u001b[0m\u001b[0m\n",
            "\u001b[0;32m/usr/local/lib/python3.8/dist-packages/tika/parser.py\u001b[0m in \u001b[0;36mfrom_file\u001b[0;34m(filename, serverEndpoint, service, xmlContent, headers, config_path, requestOptions)\u001b[0m\n\u001b[1;32m     38\u001b[0m     '''\n\u001b[1;32m     39\u001b[0m     \u001b[0;32mif\u001b[0m \u001b[0;32mnot\u001b[0m \u001b[0mxmlContent\u001b[0m\u001b[0;34m:\u001b[0m\u001b[0;34m\u001b[0m\u001b[0;34m\u001b[0m\u001b[0m\n\u001b[0;32m---> 40\u001b[0;31m         \u001b[0moutput\u001b[0m \u001b[0;34m=\u001b[0m \u001b[0mparse1\u001b[0m\u001b[0;34m(\u001b[0m\u001b[0mservice\u001b[0m\u001b[0;34m,\u001b[0m \u001b[0mfilename\u001b[0m\u001b[0;34m,\u001b[0m \u001b[0mserverEndpoint\u001b[0m\u001b[0;34m,\u001b[0m \u001b[0mheaders\u001b[0m\u001b[0;34m=\u001b[0m\u001b[0mheaders\u001b[0m\u001b[0;34m,\u001b[0m \u001b[0mconfig_path\u001b[0m\u001b[0;34m=\u001b[0m\u001b[0mconfig_path\u001b[0m\u001b[0;34m,\u001b[0m \u001b[0mrequestOptions\u001b[0m\u001b[0;34m=\u001b[0m\u001b[0mrequestOptions\u001b[0m\u001b[0;34m)\u001b[0m\u001b[0;34m\u001b[0m\u001b[0;34m\u001b[0m\u001b[0m\n\u001b[0m\u001b[1;32m     41\u001b[0m     \u001b[0;32melse\u001b[0m\u001b[0;34m:\u001b[0m\u001b[0;34m\u001b[0m\u001b[0;34m\u001b[0m\u001b[0m\n\u001b[1;32m     42\u001b[0m         output = parse1(service, filename, serverEndpoint, services={'meta': '/meta', 'text': '/tika', 'all': '/rmeta/xml'},\n",
            "\u001b[0;32m/usr/local/lib/python3.8/dist-packages/tika/tika.py\u001b[0m in \u001b[0;36mparse1\u001b[0;34m(option, urlOrPath, serverEndpoint, verbose, tikaServerJar, responseMimeType, services, rawResponse, headers, config_path, requestOptions)\u001b[0m\n\u001b[1;32m    325\u001b[0m     \u001b[0mheaders\u001b[0m \u001b[0;34m=\u001b[0m \u001b[0mheaders\u001b[0m \u001b[0;32mor\u001b[0m \u001b[0;34m{\u001b[0m\u001b[0;34m}\u001b[0m\u001b[0;34m\u001b[0m\u001b[0;34m\u001b[0m\u001b[0m\n\u001b[1;32m    326\u001b[0m \u001b[0;34m\u001b[0m\u001b[0m\n\u001b[0;32m--> 327\u001b[0;31m     \u001b[0mpath\u001b[0m\u001b[0;34m,\u001b[0m \u001b[0mfile_type\u001b[0m \u001b[0;34m=\u001b[0m \u001b[0mgetRemoteFile\u001b[0m\u001b[0;34m(\u001b[0m\u001b[0murlOrPath\u001b[0m\u001b[0;34m,\u001b[0m \u001b[0mTikaFilesPath\u001b[0m\u001b[0;34m)\u001b[0m\u001b[0;34m\u001b[0m\u001b[0;34m\u001b[0m\u001b[0m\n\u001b[0m\u001b[1;32m    328\u001b[0m     \u001b[0mheaders\u001b[0m\u001b[0;34m.\u001b[0m\u001b[0mupdate\u001b[0m\u001b[0;34m(\u001b[0m\u001b[0;34m{\u001b[0m\u001b[0;34m'Accept'\u001b[0m\u001b[0;34m:\u001b[0m \u001b[0mresponseMimeType\u001b[0m\u001b[0;34m,\u001b[0m \u001b[0;34m'Content-Disposition'\u001b[0m\u001b[0;34m:\u001b[0m \u001b[0mmake_content_disposition_header\u001b[0m\u001b[0;34m(\u001b[0m\u001b[0mpath\u001b[0m\u001b[0;34m.\u001b[0m\u001b[0mencode\u001b[0m\u001b[0;34m(\u001b[0m\u001b[0;34m'utf-8'\u001b[0m\u001b[0;34m)\u001b[0m \u001b[0;32mif\u001b[0m \u001b[0mtype\u001b[0m\u001b[0;34m(\u001b[0m\u001b[0mpath\u001b[0m\u001b[0;34m)\u001b[0m \u001b[0;32mis\u001b[0m \u001b[0municode_string\u001b[0m \u001b[0;32melse\u001b[0m \u001b[0mpath\u001b[0m\u001b[0;34m)\u001b[0m\u001b[0;34m}\u001b[0m\u001b[0;34m)\u001b[0m\u001b[0;34m\u001b[0m\u001b[0;34m\u001b[0m\u001b[0m\n\u001b[1;32m    329\u001b[0m \u001b[0;34m\u001b[0m\u001b[0m\n",
            "\u001b[0;32m/usr/local/lib/python3.8/dist-packages/tika/tika.py\u001b[0m in \u001b[0;36mgetRemoteFile\u001b[0;34m(urlOrPath, destPath)\u001b[0m\n\u001b[1;32m    780\u001b[0m             \u001b[0;32mif\u001b[0m \u001b[0mos\u001b[0m\u001b[0;34m.\u001b[0m\u001b[0mpath\u001b[0m\u001b[0;34m.\u001b[0m\u001b[0mexists\u001b[0m\u001b[0;34m(\u001b[0m\u001b[0mdestPath\u001b[0m\u001b[0;34m)\u001b[0m \u001b[0;32mand\u001b[0m \u001b[0mos\u001b[0m\u001b[0;34m.\u001b[0m\u001b[0mpath\u001b[0m\u001b[0;34m.\u001b[0m\u001b[0misfile\u001b[0m\u001b[0;34m(\u001b[0m\u001b[0mdestPath\u001b[0m\u001b[0;34m)\u001b[0m\u001b[0;34m:\u001b[0m\u001b[0;34m\u001b[0m\u001b[0;34m\u001b[0m\u001b[0m\n\u001b[1;32m    781\u001b[0m                 \u001b[0mos\u001b[0m\u001b[0;34m.\u001b[0m\u001b[0mremove\u001b[0m\u001b[0;34m(\u001b[0m\u001b[0mdestPath\u001b[0m\u001b[0;34m)\u001b[0m\u001b[0;34m\u001b[0m\u001b[0;34m\u001b[0m\u001b[0m\n\u001b[0;32m--> 782\u001b[0;31m             \u001b[0murlretrieve\u001b[0m\u001b[0;34m(\u001b[0m\u001b[0murlOrPath\u001b[0m\u001b[0;34m,\u001b[0m \u001b[0mdestPath\u001b[0m\u001b[0;34m)\u001b[0m\u001b[0;34m\u001b[0m\u001b[0;34m\u001b[0m\u001b[0m\n\u001b[0m\u001b[1;32m    783\u001b[0m         \u001b[0;32mreturn\u001b[0m \u001b[0;34m(\u001b[0m\u001b[0mdestPath\u001b[0m\u001b[0;34m,\u001b[0m \u001b[0;34m'remote'\u001b[0m\u001b[0;34m)\u001b[0m\u001b[0;34m\u001b[0m\u001b[0;34m\u001b[0m\u001b[0m\n\u001b[1;32m    784\u001b[0m \u001b[0;34m\u001b[0m\u001b[0m\n",
            "\u001b[0;32m/usr/lib/python3.8/urllib/request.py\u001b[0m in \u001b[0;36murlretrieve\u001b[0;34m(url, filename, reporthook, data)\u001b[0m\n\u001b[1;32m    245\u001b[0m     \u001b[0murl_type\u001b[0m\u001b[0;34m,\u001b[0m \u001b[0mpath\u001b[0m \u001b[0;34m=\u001b[0m \u001b[0m_splittype\u001b[0m\u001b[0;34m(\u001b[0m\u001b[0murl\u001b[0m\u001b[0;34m)\u001b[0m\u001b[0;34m\u001b[0m\u001b[0;34m\u001b[0m\u001b[0m\n\u001b[1;32m    246\u001b[0m \u001b[0;34m\u001b[0m\u001b[0m\n\u001b[0;32m--> 247\u001b[0;31m     \u001b[0;32mwith\u001b[0m \u001b[0mcontextlib\u001b[0m\u001b[0;34m.\u001b[0m\u001b[0mclosing\u001b[0m\u001b[0;34m(\u001b[0m\u001b[0murlopen\u001b[0m\u001b[0;34m(\u001b[0m\u001b[0murl\u001b[0m\u001b[0;34m,\u001b[0m \u001b[0mdata\u001b[0m\u001b[0;34m)\u001b[0m\u001b[0;34m)\u001b[0m \u001b[0;32mas\u001b[0m \u001b[0mfp\u001b[0m\u001b[0;34m:\u001b[0m\u001b[0;34m\u001b[0m\u001b[0;34m\u001b[0m\u001b[0m\n\u001b[0m\u001b[1;32m    248\u001b[0m         \u001b[0mheaders\u001b[0m \u001b[0;34m=\u001b[0m \u001b[0mfp\u001b[0m\u001b[0;34m.\u001b[0m\u001b[0minfo\u001b[0m\u001b[0;34m(\u001b[0m\u001b[0;34m)\u001b[0m\u001b[0;34m\u001b[0m\u001b[0;34m\u001b[0m\u001b[0m\n\u001b[1;32m    249\u001b[0m \u001b[0;34m\u001b[0m\u001b[0m\n",
            "\u001b[0;32m/usr/lib/python3.8/urllib/request.py\u001b[0m in \u001b[0;36murlopen\u001b[0;34m(url, data, timeout, cafile, capath, cadefault, context)\u001b[0m\n\u001b[1;32m    220\u001b[0m     \u001b[0;32melse\u001b[0m\u001b[0;34m:\u001b[0m\u001b[0;34m\u001b[0m\u001b[0;34m\u001b[0m\u001b[0m\n\u001b[1;32m    221\u001b[0m         \u001b[0mopener\u001b[0m \u001b[0;34m=\u001b[0m \u001b[0m_opener\u001b[0m\u001b[0;34m\u001b[0m\u001b[0;34m\u001b[0m\u001b[0m\n\u001b[0;32m--> 222\u001b[0;31m     \u001b[0;32mreturn\u001b[0m \u001b[0mopener\u001b[0m\u001b[0;34m.\u001b[0m\u001b[0mopen\u001b[0m\u001b[0;34m(\u001b[0m\u001b[0murl\u001b[0m\u001b[0;34m,\u001b[0m \u001b[0mdata\u001b[0m\u001b[0;34m,\u001b[0m \u001b[0mtimeout\u001b[0m\u001b[0;34m)\u001b[0m\u001b[0;34m\u001b[0m\u001b[0;34m\u001b[0m\u001b[0m\n\u001b[0m\u001b[1;32m    223\u001b[0m \u001b[0;34m\u001b[0m\u001b[0m\n\u001b[1;32m    224\u001b[0m \u001b[0;32mdef\u001b[0m \u001b[0minstall_opener\u001b[0m\u001b[0;34m(\u001b[0m\u001b[0mopener\u001b[0m\u001b[0;34m)\u001b[0m\u001b[0;34m:\u001b[0m\u001b[0;34m\u001b[0m\u001b[0;34m\u001b[0m\u001b[0m\n",
            "\u001b[0;32m/usr/lib/python3.8/urllib/request.py\u001b[0m in \u001b[0;36mopen\u001b[0;34m(self, fullurl, data, timeout)\u001b[0m\n\u001b[1;32m    529\u001b[0m         \u001b[0;32mfor\u001b[0m \u001b[0mprocessor\u001b[0m \u001b[0;32min\u001b[0m \u001b[0mself\u001b[0m\u001b[0;34m.\u001b[0m\u001b[0mprocess_response\u001b[0m\u001b[0;34m.\u001b[0m\u001b[0mget\u001b[0m\u001b[0;34m(\u001b[0m\u001b[0mprotocol\u001b[0m\u001b[0;34m,\u001b[0m \u001b[0;34m[\u001b[0m\u001b[0;34m]\u001b[0m\u001b[0;34m)\u001b[0m\u001b[0;34m:\u001b[0m\u001b[0;34m\u001b[0m\u001b[0;34m\u001b[0m\u001b[0m\n\u001b[1;32m    530\u001b[0m             \u001b[0mmeth\u001b[0m \u001b[0;34m=\u001b[0m \u001b[0mgetattr\u001b[0m\u001b[0;34m(\u001b[0m\u001b[0mprocessor\u001b[0m\u001b[0;34m,\u001b[0m \u001b[0mmeth_name\u001b[0m\u001b[0;34m)\u001b[0m\u001b[0;34m\u001b[0m\u001b[0;34m\u001b[0m\u001b[0m\n\u001b[0;32m--> 531\u001b[0;31m             \u001b[0mresponse\u001b[0m \u001b[0;34m=\u001b[0m \u001b[0mmeth\u001b[0m\u001b[0;34m(\u001b[0m\u001b[0mreq\u001b[0m\u001b[0;34m,\u001b[0m \u001b[0mresponse\u001b[0m\u001b[0;34m)\u001b[0m\u001b[0;34m\u001b[0m\u001b[0;34m\u001b[0m\u001b[0m\n\u001b[0m\u001b[1;32m    532\u001b[0m \u001b[0;34m\u001b[0m\u001b[0m\n\u001b[1;32m    533\u001b[0m         \u001b[0;32mreturn\u001b[0m \u001b[0mresponse\u001b[0m\u001b[0;34m\u001b[0m\u001b[0;34m\u001b[0m\u001b[0m\n",
            "\u001b[0;32m/usr/lib/python3.8/urllib/request.py\u001b[0m in \u001b[0;36mhttp_response\u001b[0;34m(self, request, response)\u001b[0m\n\u001b[1;32m    638\u001b[0m         \u001b[0;31m# request was successfully received, understood, and accepted.\u001b[0m\u001b[0;34m\u001b[0m\u001b[0;34m\u001b[0m\u001b[0;34m\u001b[0m\u001b[0m\n\u001b[1;32m    639\u001b[0m         \u001b[0;32mif\u001b[0m \u001b[0;32mnot\u001b[0m \u001b[0;34m(\u001b[0m\u001b[0;36m200\u001b[0m \u001b[0;34m<=\u001b[0m \u001b[0mcode\u001b[0m \u001b[0;34m<\u001b[0m \u001b[0;36m300\u001b[0m\u001b[0;34m)\u001b[0m\u001b[0;34m:\u001b[0m\u001b[0;34m\u001b[0m\u001b[0;34m\u001b[0m\u001b[0m\n\u001b[0;32m--> 640\u001b[0;31m             response = self.parent.error(\n\u001b[0m\u001b[1;32m    641\u001b[0m                 'http', request, response, code, msg, hdrs)\n\u001b[1;32m    642\u001b[0m \u001b[0;34m\u001b[0m\u001b[0m\n",
            "\u001b[0;32m/usr/lib/python3.8/urllib/request.py\u001b[0m in \u001b[0;36merror\u001b[0;34m(self, proto, *args)\u001b[0m\n\u001b[1;32m    567\u001b[0m         \u001b[0;32mif\u001b[0m \u001b[0mhttp_err\u001b[0m\u001b[0;34m:\u001b[0m\u001b[0;34m\u001b[0m\u001b[0;34m\u001b[0m\u001b[0m\n\u001b[1;32m    568\u001b[0m             \u001b[0margs\u001b[0m \u001b[0;34m=\u001b[0m \u001b[0;34m(\u001b[0m\u001b[0mdict\u001b[0m\u001b[0;34m,\u001b[0m \u001b[0;34m'default'\u001b[0m\u001b[0;34m,\u001b[0m \u001b[0;34m'http_error_default'\u001b[0m\u001b[0;34m)\u001b[0m \u001b[0;34m+\u001b[0m \u001b[0morig_args\u001b[0m\u001b[0;34m\u001b[0m\u001b[0;34m\u001b[0m\u001b[0m\n\u001b[0;32m--> 569\u001b[0;31m             \u001b[0;32mreturn\u001b[0m \u001b[0mself\u001b[0m\u001b[0;34m.\u001b[0m\u001b[0m_call_chain\u001b[0m\u001b[0;34m(\u001b[0m\u001b[0;34m*\u001b[0m\u001b[0margs\u001b[0m\u001b[0;34m)\u001b[0m\u001b[0;34m\u001b[0m\u001b[0;34m\u001b[0m\u001b[0m\n\u001b[0m\u001b[1;32m    570\u001b[0m \u001b[0;34m\u001b[0m\u001b[0m\n\u001b[1;32m    571\u001b[0m \u001b[0;31m# XXX probably also want an abstract factory that knows when it makes\u001b[0m\u001b[0;34m\u001b[0m\u001b[0;34m\u001b[0m\u001b[0;34m\u001b[0m\u001b[0m\n",
            "\u001b[0;32m/usr/lib/python3.8/urllib/request.py\u001b[0m in \u001b[0;36m_call_chain\u001b[0;34m(self, chain, kind, meth_name, *args)\u001b[0m\n\u001b[1;32m    500\u001b[0m         \u001b[0;32mfor\u001b[0m \u001b[0mhandler\u001b[0m \u001b[0;32min\u001b[0m \u001b[0mhandlers\u001b[0m\u001b[0;34m:\u001b[0m\u001b[0;34m\u001b[0m\u001b[0;34m\u001b[0m\u001b[0m\n\u001b[1;32m    501\u001b[0m             \u001b[0mfunc\u001b[0m \u001b[0;34m=\u001b[0m \u001b[0mgetattr\u001b[0m\u001b[0;34m(\u001b[0m\u001b[0mhandler\u001b[0m\u001b[0;34m,\u001b[0m \u001b[0mmeth_name\u001b[0m\u001b[0;34m)\u001b[0m\u001b[0;34m\u001b[0m\u001b[0;34m\u001b[0m\u001b[0m\n\u001b[0;32m--> 502\u001b[0;31m             \u001b[0mresult\u001b[0m \u001b[0;34m=\u001b[0m \u001b[0mfunc\u001b[0m\u001b[0;34m(\u001b[0m\u001b[0;34m*\u001b[0m\u001b[0margs\u001b[0m\u001b[0;34m)\u001b[0m\u001b[0;34m\u001b[0m\u001b[0;34m\u001b[0m\u001b[0m\n\u001b[0m\u001b[1;32m    503\u001b[0m             \u001b[0;32mif\u001b[0m \u001b[0mresult\u001b[0m \u001b[0;32mis\u001b[0m \u001b[0;32mnot\u001b[0m \u001b[0;32mNone\u001b[0m\u001b[0;34m:\u001b[0m\u001b[0;34m\u001b[0m\u001b[0;34m\u001b[0m\u001b[0m\n\u001b[1;32m    504\u001b[0m                 \u001b[0;32mreturn\u001b[0m \u001b[0mresult\u001b[0m\u001b[0;34m\u001b[0m\u001b[0;34m\u001b[0m\u001b[0m\n",
            "\u001b[0;32m/usr/lib/python3.8/urllib/request.py\u001b[0m in \u001b[0;36mhttp_error_default\u001b[0;34m(self, req, fp, code, msg, hdrs)\u001b[0m\n\u001b[1;32m    647\u001b[0m \u001b[0;32mclass\u001b[0m \u001b[0mHTTPDefaultErrorHandler\u001b[0m\u001b[0;34m(\u001b[0m\u001b[0mBaseHandler\u001b[0m\u001b[0;34m)\u001b[0m\u001b[0;34m:\u001b[0m\u001b[0;34m\u001b[0m\u001b[0;34m\u001b[0m\u001b[0m\n\u001b[1;32m    648\u001b[0m     \u001b[0;32mdef\u001b[0m \u001b[0mhttp_error_default\u001b[0m\u001b[0;34m(\u001b[0m\u001b[0mself\u001b[0m\u001b[0;34m,\u001b[0m \u001b[0mreq\u001b[0m\u001b[0;34m,\u001b[0m \u001b[0mfp\u001b[0m\u001b[0;34m,\u001b[0m \u001b[0mcode\u001b[0m\u001b[0;34m,\u001b[0m \u001b[0mmsg\u001b[0m\u001b[0;34m,\u001b[0m \u001b[0mhdrs\u001b[0m\u001b[0;34m)\u001b[0m\u001b[0;34m:\u001b[0m\u001b[0;34m\u001b[0m\u001b[0;34m\u001b[0m\u001b[0m\n\u001b[0;32m--> 649\u001b[0;31m         \u001b[0;32mraise\u001b[0m \u001b[0mHTTPError\u001b[0m\u001b[0;34m(\u001b[0m\u001b[0mreq\u001b[0m\u001b[0;34m.\u001b[0m\u001b[0mfull_url\u001b[0m\u001b[0;34m,\u001b[0m \u001b[0mcode\u001b[0m\u001b[0;34m,\u001b[0m \u001b[0mmsg\u001b[0m\u001b[0;34m,\u001b[0m \u001b[0mhdrs\u001b[0m\u001b[0;34m,\u001b[0m \u001b[0mfp\u001b[0m\u001b[0;34m)\u001b[0m\u001b[0;34m\u001b[0m\u001b[0;34m\u001b[0m\u001b[0m\n\u001b[0m\u001b[1;32m    650\u001b[0m \u001b[0;34m\u001b[0m\u001b[0m\n\u001b[1;32m    651\u001b[0m \u001b[0;32mclass\u001b[0m \u001b[0mHTTPRedirectHandler\u001b[0m\u001b[0;34m(\u001b[0m\u001b[0mBaseHandler\u001b[0m\u001b[0;34m)\u001b[0m\u001b[0;34m:\u001b[0m\u001b[0;34m\u001b[0m\u001b[0;34m\u001b[0m\u001b[0m\n",
            "\u001b[0;31mHTTPError\u001b[0m: HTTP Error 404: "
          ]
        }
      ]
    },
    {
      "cell_type": "markdown",
      "source": [
        "---\n",
        "---"
      ],
      "metadata": {
        "id": "63_RWclDAxY8"
      }
    },
    {
      "cell_type": "markdown",
      "source": [
        "## source codes"
      ],
      "metadata": {
        "id": "124S1zSlP3u1"
      }
    },
    {
      "cell_type": "code",
      "source": [
        "# tika 라이브러리로 pdf파일 텍스트 불러오는 기본 코드\n",
        "\n",
        "!pip install tika\n",
        "from tika import parser # pip install tika\n",
        "\n",
        "raw= parser.from_file('/content/drive/MyDrive/★Project_prof.Jang/Taiwan/data/LCEWC03_090705.pdf')  # 딕셔너리가 생성된다.\n",
        "# print(type(raw))\n",
        "text=raw['content']          # key 'content'의 value를 불러와서 text에 담는다."
      ],
      "metadata": {
        "id": "QeitWAoAyTpy"
      },
      "execution_count": null,
      "outputs": []
    },
    {
      "cell_type": "code",
      "source": [
        "# 09기, 10기 의원 명단 리스트\n",
        "members09=['吳思瑤', '姚文智', '呂孫綾', '林淑芬', '高志鵬', '吳秉叡', '蘇巧慧', '張宏陸', '羅致政', '江永昌', '吳琪銘', '鄭運鵬', '陳賴素美', '鄭寶清', '蔡其昌', '張廖萬堅', '萬國書', '何欣純', '葉宜津', '黃偉哲', '陳亭妃', '林俊憲', '王定宇', '邱議瑩', '邱志偉', '劉世芳', '林岱樺', '管碧玲', '李昆澤', '趙天麟', '許智傑', '賴瑞隆', '蔡適應', '陳歐珀', '柯建銘', '黃秀芳', '洪宗熠', '陳素月', '蘇治芬', '劉建國', '李俊俋', '蔡易餘', '陳明文', '蘇震清', '鍾佳濱', '莊瑞雄', '蕭美琴', '劉櫂豪', '楊曜', '陳瑩', '蔣萬安', '李彥秀', '蔣乃辛', '費鴻泰', '賴士葆', '林德福', '羅明才', '陳學聖', '呂玉玲', '顏寬恆', '盧秀燕', '江啟臣', '林為洲', '陳超明', '徐志榮', '王惠美', '馬文君', '許淑華', '楊鎮浯', '陳雪生', '鄭天財 Sra.Kacaw', '廖國棟 Sufin.Siluko', '孔文吉', '簡東明 Uliw.Qaljupayare', '林昶佐', '黃國昌', '洪慈庸', '高金素梅', '趙正宇', '吳焜裕', '吳玉琴', '陳曼麗', '顧立雄', '蔡培慧', '王榮璋', '谷辣斯‧尤達卡 Kolas.Yotaka', '余婉如', '蘇嘉全', '段宜康', '鄭麗君', '陳其邁', '尤美女', '李應元', '鍾孔炤', '林靜儀', '徐國勇', '周春米', '王金平', '柯志恩', '陳宜民', '林麗嬋', '許毓仁', '曾銘宗', '黃昭順', '吳志揚', '張麗善', '徐榛蔚', '王育敏', '高潞‧以用‧巴魕剌 Kawlo.Iyun.Pacidal', '徐永明', '李鴻鈞', '陳怡潔', '周陳秀霞']\n",
        "members10=['吳思瑤', '何志偉', '蔣萬安', '高嘉瑜', '林昶佐', '林奕華', '費鴻泰', '賴士葆', '洪孟楷', '林淑芬', '余天', '吳秉叡', '蘇巧', '張宏陸', '羅致政', '江永昌', '林德福', '吳琪銘', '羅明才', '賴品妤', '鄭運鵬', '黃世杰', '魯明哲', '萬美玲', '呂玉玲', '趙正宇', '蔡其昌', '陳柏惟', '楊瓊瓔', '張廖萬堅', '莊競程', '黃國書', '何欣純', '江啟臣', '賴惠員', '郭國文', '陳亭妃', '林宜瑾', '林俊憲', '王定宇', '邱議瑩', '邱志偉', '劉世芳', '林岱樺', '李昆澤', '趙天麟', '許智傑', '賴瑞隆', '林為洲', '林思銘', '陳超明', '徐志榮', '陳秀寳', '黃秀芳', '謝衣', '陳素月', '馬文君', '許淑華', '蘇治芬', '劉建國', '蔡易餘', '陳明文', '鍾佳濱', '蘇震清', '陳歐珀', '傅崐萁', '劉櫂豪', '楊曜', '陳玉珍', '陳雪生', '蔡適應', '鄭正鈐', '王美惠', '鄭天財 Sra.Kacaw', '陳瑩', '廖國棟 Sufin.Siluko', '高金素梅', '孔文吉', '伍麗華  aidhai.Tahovecahe', '吳玉琴', '洪申翰', '范雲', '羅美玲', '邱泰源', '周春米', '游錫堃', '柯建銘', '管碧玲', '莊瑞雄', '沈發惠', '林楚', '湯蕙禎', '曾銘宗', '葉毓蘭', '李貴敏', '吳斯懷', '鄭麗文', '林文瑞', '廖婉汝', '翁重鈞', '吳怡玎', '陳以信', '張育美', '李德維', '溫玉霞', '賴香伶', '張其祿', '高虹安', '邱臣遠', '蔡壁如', '陳椒華', '邱顯智', '王婉諭']"
      ],
      "metadata": {
        "id": "L1nc-CZKfeHp"
      },
      "execution_count": 20,
      "outputs": []
    },
    {
      "cell_type": "code",
      "source": [
        "# pdf파일명이 사이트 주소와 일치할 때 pdf가져와서 저장하는 코드\n",
        "import requests\n",
        "\n",
        "url = \"https://lci.ly.gov.tw/LyLCEW/agendarec1/02/pdf/09/08/01/LCEWC03_090801.pdf\"\n",
        "response = requests.get(url)\n",
        "with open('/content/drive/MyDrive/★Project_prof.Jang/Taiwan/data/LCEWC03_090801.pdf', \"wb\") as f:\n",
        "    f.write(response.content)"
      ],
      "metadata": {
        "id": "AQlPO0SK95o3"
      },
      "execution_count": 7,
      "outputs": []
    },
    {
      "cell_type": "code",
      "source": [
        "# 2019년과 2020년 회의날짜 리스트 생성\n",
        "date=['090701', '090702', '090703', '090704', '090705', '090706', '090707', '090708', '090709', '090710', '090711', '090712', '090713', '090714', '090715', '090716', '090801', '090802', '090803', '090804', '090805', '090806', '090807', '090808', '090809', '090810', '090811', '090812', '090813', '090814', '090815', '100101', '100102', '100103', '100104', '100105', '100106', '100107', '100108', '100109', '100110', '100111', '100112', '100113', '100114', '100115', '100201', '100202', '100203', '100204', '100205', '100206', '100207', '100208', '100209', '100210', '100211', '100306', '100314'] "
      ],
      "metadata": {
        "id": "JdZI2NFTZrRv"
      },
      "execution_count": null,
      "outputs": []
    }
  ]
}